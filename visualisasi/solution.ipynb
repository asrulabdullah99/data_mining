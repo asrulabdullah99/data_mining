{
 "cells": [
  {
   "cell_type": "code",
   "execution_count": 1,
   "metadata": {},
   "outputs": [],
   "source": [
    "import pandas as pd\n",
    "import numpy as np\n",
    "import matplotlib.pyplot as plt"
   ]
  },
  {
   "cell_type": "code",
   "execution_count": 2,
   "metadata": {},
   "outputs": [
    {
     "data": {
      "text/plain": [
       "[14292.2,\n",
       " 12858.9,\n",
       " 11467.5,\n",
       " 9241.1,\n",
       " 8559.6,\n",
       " 11073.5,\n",
       " 9704.3,\n",
       " 11402.3,\n",
       " 9853.5,\n",
       " 8459.5,\n",
       " 8245.1,\n",
       " 7361.3,\n",
       " 7646.6,\n",
       " 7515.8,\n",
       " 6505.8,\n",
       " 6167.3,\n",
       " 9000.9,\n",
       " 6765.5,\n",
       " 6254.8,\n",
       " 7408.7,\n",
       " 8234.1,\n",
       " 7014.3,\n",
       " 6231.6,\n",
       " 6379.1,\n",
       " 6734.8,\n",
       " 7189.6,\n",
       " 6184.3,\n",
       " 6519.0,\n",
       " 6729.6,\n",
       " 6603.9,\n",
       " 6596.3,\n",
       " 6321.7,\n",
       " 6572.2,\n",
       " 6494.2,\n",
       " 6386.2,\n",
       " 6427.1,\n",
       " 5621.8,\n",
       " 3920.4,\n",
       " 4196.2,\n",
       " 3430.4,\n",
       " 3228.7,\n",
       " 3964.4,\n",
       " 3706.8,\n",
       " 3785.4,\n",
       " 3597.2,\n",
       " 3677.8,\n",
       " 3570.9,\n",
       " 3502.5,\n",
       " 3661.4,\n",
       " 3616.8,\n",
       " 4120.4,\n",
       " 3823.1,\n",
       " 3944.3,\n",
       " 4006.4,\n",
       " 4002.5,\n",
       " 4111.8,\n",
       " 5046.2,\n",
       " 5051.8,\n",
       " 5290.2,\n",
       " 5265.9,\n",
       " 5830.9,\n",
       " 7190.3,\n",
       " 7262.6,\n",
       " 8027.4,\n",
       " 8545.7,\n",
       " 7901.4,\n",
       " 8812.5,\n",
       " 10721.7,\n",
       " 11906.5,\n",
       " 11268.0,\n",
       " 11364.9,\n",
       " 10826.7,\n",
       " 9492.1,\n",
       " 10815.7,\n",
       " 11314.5,\n",
       " 10218.1,\n",
       " 10131.0,\n",
       " 9594.4,\n",
       " 10461.1,\n",
       " 10337.3,\n",
       " 8497.3,\n",
       " 7324.1,\n",
       " 7546.6,\n",
       " 7510.9,\n",
       " 7080.8,\n",
       " 7156.2,\n",
       " 7321.5,\n",
       " 7376.8]"
      ]
     },
     "execution_count": 2,
     "metadata": {},
     "output_type": "execute_result"
    }
   ],
   "source": [
    "price = [14292.2, 12858.9, 11467.5, 9241.1, 8559.6, 11073.5, 9704.3, 11402.3,\n",
    "9853.5, 8459.5, 8245.1, 7361.3, 7646.6, 7515.8, 6505.8, 6167.3,\n",
    "9000.9, 6765.5, 6254.8, 7408.7, 8234.1, 7014.3, 6231.6, 6379.1,\n",
    "6734.8, 7189.6, 6184.3, 6519.0, 6729.6, 6603.9, 6596.3, 6321.7,\n",
    "6572.2, 6494.2, 6386.2, 6427.1, 5621.8, 3920.4, 4196.2, 3430.4,\n",
    "3228.7, 3964.4, 3706.8, 3785.4, 3597.2, 3677.8, 3570.9, 3502.5,\n",
    "3661.4, 3616.8, 4120.4, 3823.1, 3944.3, 4006.4, 4002.5, 4111.8,\n",
    "5046.2, 5051.8, 5290.2, 5265.9, 5830.9, 7190.3, 7262.6, 8027.4,\n",
    "8545.7, 7901.4, 8812.5, 10721.7, 11906.5, 11268.0, 11364.9, 10826.7,\n",
    "9492.1, 10815.7, 11314.5, 10218.1, 10131.0, 9594.4, 10461.1, 10337.3,\n",
    "8497.3, 7324.1, 7546.6, 7510.9, 7080.8, 7156.2, 7321.5, 7376.8]\n",
    "price"
   ]
  },
  {
   "cell_type": "code",
   "execution_count": 3,
   "metadata": {},
   "outputs": [
    {
     "data": {
      "text/plain": [
       "88"
      ]
     },
     "execution_count": 3,
     "metadata": {},
     "output_type": "execute_result"
    }
   ],
   "source": [
    "list_data = len(price)\n",
    "list_data"
   ]
  },
  {
   "cell_type": "code",
   "execution_count": 4,
   "metadata": {},
   "outputs": [
    {
     "data": {
      "text/plain": [
       "[1,\n",
       " 2,\n",
       " 3,\n",
       " 4,\n",
       " 5,\n",
       " 6,\n",
       " 7,\n",
       " 8,\n",
       " 9,\n",
       " 10,\n",
       " 11,\n",
       " 12,\n",
       " 13,\n",
       " 14,\n",
       " 15,\n",
       " 16,\n",
       " 17,\n",
       " 18,\n",
       " 19,\n",
       " 20,\n",
       " 21,\n",
       " 22,\n",
       " 23,\n",
       " 24,\n",
       " 25,\n",
       " 26,\n",
       " 27,\n",
       " 28,\n",
       " 29,\n",
       " 30,\n",
       " 31,\n",
       " 32,\n",
       " 33,\n",
       " 34,\n",
       " 35,\n",
       " 36,\n",
       " 37,\n",
       " 38,\n",
       " 39,\n",
       " 40,\n",
       " 41,\n",
       " 42,\n",
       " 43,\n",
       " 44,\n",
       " 45,\n",
       " 46,\n",
       " 47,\n",
       " 48,\n",
       " 49,\n",
       " 50,\n",
       " 51,\n",
       " 52,\n",
       " 53,\n",
       " 54,\n",
       " 55,\n",
       " 56,\n",
       " 57,\n",
       " 58,\n",
       " 59,\n",
       " 60,\n",
       " 61,\n",
       " 62,\n",
       " 63,\n",
       " 64,\n",
       " 65,\n",
       " 66,\n",
       " 67,\n",
       " 68,\n",
       " 69,\n",
       " 70,\n",
       " 71,\n",
       " 72,\n",
       " 73,\n",
       " 74,\n",
       " 75,\n",
       " 76,\n",
       " 77,\n",
       " 78,\n",
       " 79,\n",
       " 80,\n",
       " 81,\n",
       " 82,\n",
       " 83,\n",
       " 84,\n",
       " 85,\n",
       " 86,\n",
       " 87,\n",
       " 88]"
      ]
     },
     "execution_count": 4,
     "metadata": {},
     "output_type": "execute_result"
    }
   ],
   "source": [
    "weeks = list(range(1,len(price)+1)) # range (1,89) <89 \n",
    "weeks"
   ]
  },
  {
   "cell_type": "code",
   "execution_count": 5,
   "metadata": {},
   "outputs": [],
   "source": [
    "#visualisasi tahun 2018\n",
    "df = pd.DataFrame({'Week': weeks, 'Price': price })"
   ]
  },
  {
   "cell_type": "code",
   "execution_count": 7,
   "metadata": {},
   "outputs": [
    {
     "name": "stdout",
     "output_type": "stream",
     "text": [
      "0      1\n",
      "1      2\n",
      "2      3\n",
      "3      4\n",
      "4      5\n",
      "5      6\n",
      "6      7\n",
      "7      8\n",
      "8      9\n",
      "9     10\n",
      "10    11\n",
      "11    12\n",
      "12    13\n",
      "13    14\n",
      "14    15\n",
      "15    16\n",
      "16    17\n",
      "17    18\n",
      "18    19\n",
      "19    20\n",
      "20    21\n",
      "21    22\n",
      "22    23\n",
      "23    24\n",
      "24    25\n",
      "25    26\n",
      "26    27\n",
      "27    28\n",
      "28    29\n",
      "29    30\n",
      "30    31\n",
      "31    32\n",
      "32    33\n",
      "33    34\n",
      "34    35\n",
      "35    36\n",
      "36    37\n",
      "37    38\n",
      "38    39\n",
      "39    40\n",
      "40    41\n",
      "41    42\n",
      "42    43\n",
      "43    44\n",
      "44    45\n",
      "45    46\n",
      "46    47\n",
      "47    48\n",
      "48    49\n",
      "49    50\n",
      "50    51\n",
      "51    52\n",
      "Name: Week, dtype: int64\n",
      "0     14292.2\n",
      "1     12858.9\n",
      "2     11467.5\n",
      "3      9241.1\n",
      "4      8559.6\n",
      "5     11073.5\n",
      "6      9704.3\n",
      "7     11402.3\n",
      "8      9853.5\n",
      "9      8459.5\n",
      "10     8245.1\n",
      "11     7361.3\n",
      "12     7646.6\n",
      "13     7515.8\n",
      "14     6505.8\n",
      "15     6167.3\n",
      "16     9000.9\n",
      "17     6765.5\n",
      "18     6254.8\n",
      "19     7408.7\n",
      "20     8234.1\n",
      "21     7014.3\n",
      "22     6231.6\n",
      "23     6379.1\n",
      "24     6734.8\n",
      "25     7189.6\n",
      "26     6184.3\n",
      "27     6519.0\n",
      "28     6729.6\n",
      "29     6603.9\n",
      "30     6596.3\n",
      "31     6321.7\n",
      "32     6572.2\n",
      "33     6494.2\n",
      "34     6386.2\n",
      "35     6427.1\n",
      "36     5621.8\n",
      "37     3920.4\n",
      "38     4196.2\n",
      "39     3430.4\n",
      "40     3228.7\n",
      "41     3964.4\n",
      "42     3706.8\n",
      "43     3785.4\n",
      "44     3597.2\n",
      "45     3677.8\n",
      "46     3570.9\n",
      "47     3502.5\n",
      "48     3661.4\n",
      "49     3616.8\n",
      "50     4120.4\n",
      "51     3823.1\n",
      "Name: Price, dtype: float64\n"
     ]
    }
   ],
   "source": [
    "print(df['Week'][0:52])\n",
    "print(df['Price'][0:52])"
   ]
  },
  {
   "cell_type": "code",
   "execution_count": 8,
   "metadata": {},
   "outputs": [
    {
     "data": {
      "text/plain": [
       "Text(0.5, 0, 'Week')"
      ]
     },
     "execution_count": 8,
     "metadata": {},
     "output_type": "execute_result"
    },
    {
     "data": {
      "image/png": "[encoded data removed]",
      "text/plain": [
       "<Figure size 432x288 with 1 Axes>"
      ]
     },
     "metadata": {
      "needs_background": "light"
     },
     "output_type": "display_data"
    }
   ],
   "source": [
    "#visualisasi tahun 2018\n",
    "plt.plot(df['Week'][0:52],df['Price'][0:52])\n",
    "plt.title('Harga Emas Tahun 2018')\n",
    "plt.ylabel('Price')\n",
    "plt.xlabel('Week')"
   ]
  },
  {
   "cell_type": "code",
   "execution_count": 9,
   "metadata": {},
   "outputs": [
    {
     "data": {
      "text/plain": [
       "Text(0.5, 0, 'Week')"
      ]
     },
     "execution_count": 9,
     "metadata": {},
     "output_type": "execute_result"
    },
    {
     "data": {
      "image/png": "[encoded data removed]",
      "text/plain": [
       "<Figure size 432x288 with 1 Axes>"
      ]
     },
     "metadata": {
      "needs_background": "light"
     },
     "output_type": "display_data"
    }
   ],
   "source": [
    "#visualisasi tahun 2019\n",
    "plt.plot(df['Week'][53:88],df['Price'][53:88])\n",
    "plt.title('Harga Emas Tahun 2019')\n",
    "plt.ylabel('Price')\n",
    "plt.xlabel('Week')"
   ]
  },
  {
   "cell_type": "code",
   "execution_count": 10,
   "metadata": {},
   "outputs": [
    {
     "data": {
      "text/plain": [
       "Text(0.5, 0, 'Week')"
      ]
     },
     "execution_count": 10,
     "metadata": {},
     "output_type": "execute_result"
    },
    {
     "data": {
      "image/png": "[encoded data removed]",
      "text/plain": [
       "<Figure size 432x288 with 1 Axes>"
      ]
     },
     "metadata": {
      "needs_background": "light"
     },
     "output_type": "display_data"
    }
   ],
   "source": [
    "#visualisasi tahun 2018-2019\n",
    "plt.plot(df['Week'],df['Price'])\n",
    "plt.title('Harga Emas Tahun 2018-2019')\n",
    "plt.ylabel('Price')\n",
    "plt.xlabel('Week')"
   ]
  },
  {
   "cell_type": "markdown",
   "metadata": {},
   "source": [
    "cpu_usage = [\n",
    "[3, 2, 4, 2, 4, 1, 1, 4, 4, 12, 22, 23,\n",
    "45, 9, 33, 56, 23, 40, 21, 6, 6, 2, 2, 3], # Monday\n",
    "[1, 2, 3, 2, 3, 2, 3, 2, 7, 22, 45, 44,\n",
    "33, 9, 23, 19, 33, 56, 12, 2, 3, 1, 2, 2], # Tuesday\n",
    "[2, 3, 1, 2, 4, 4, 2, 2, 1, 2, 5, 31,\n",
    "54, 7, 6, 34, 68, 34, 49, 6, 6, 2, 2, 3], # Wednesday\n",
    "[2, 2, 3, 2, 4, 1, 2, 4, 1, 18, 24, 18,\n",
    "41, 3, 44, 42, 12, 36, 41, 2, 2, 4, 2, 4], # Thursday\n",
    "[4, 1, 2, 2, 3, 2, 5, 1, 2, 12, 33, 27,\n",
    "43, 8, 38, 53, 29, 45, 39, 3, 1, 1, 3, 4], # Friday\n",
    "[2, 3, 1, 2, 2, 5, 2, 8, 4, 2, 3,\n",
    "1, 5, 1, 2, 3, 2, 6, 1, 2, 2, 1, 4, 3], # Saturday\n",
    "[1, 2, 3, 1, 1, 3, 4, 2, 3, 1, 2,\n",
    "2, 5, 3, 2, 1, 4, 2, 45, 26, 33, 2, 2, 1], # Sunday\n",
    "]"
   ]
  },
  {
   "cell_type": "code",
   "execution_count": 5,
   "metadata": {},
   "outputs": [],
   "source": [
    "#import library\n",
    "import seaborn as sns"
   ]
  },
  {
   "cell_type": "code",
   "execution_count": 7,
   "metadata": {},
   "outputs": [],
   "source": [
    "#tentukan jam dan hari\n",
    "hours = list(range(0,24))\n",
    "days = ['Senin','Selasa','Rabu','Kamis','Jumat','Sabtu','Ahad']"
   ]
  },
  {
   "cell_type": "code",
   "execution_count": 8,
   "metadata": {},
   "outputs": [
    {
     "data": {
      "text/plain": [
       "[[3,\n",
       "  2,\n",
       "  4,\n",
       "  2,\n",
       "  4,\n",
       "  1,\n",
       "  1,\n",
       "  4,\n",
       "  4,\n",
       "  12,\n",
       "  22,\n",
       "  23,\n",
       "  45,\n",
       "  9,\n",
       "  33,\n",
       "  56,\n",
       "  23,\n",
       "  40,\n",
       "  21,\n",
       "  6,\n",
       "  6,\n",
       "  2,\n",
       "  2,\n",
       "  3],\n",
       " [1,\n",
       "  2,\n",
       "  3,\n",
       "  2,\n",
       "  3,\n",
       "  2,\n",
       "  3,\n",
       "  2,\n",
       "  7,\n",
       "  22,\n",
       "  45,\n",
       "  44,\n",
       "  33,\n",
       "  9,\n",
       "  23,\n",
       "  19,\n",
       "  33,\n",
       "  56,\n",
       "  12,\n",
       "  2,\n",
       "  3,\n",
       "  1,\n",
       "  2,\n",
       "  2],\n",
       " [2,\n",
       "  3,\n",
       "  1,\n",
       "  2,\n",
       "  4,\n",
       "  4,\n",
       "  2,\n",
       "  2,\n",
       "  1,\n",
       "  2,\n",
       "  5,\n",
       "  31,\n",
       "  54,\n",
       "  7,\n",
       "  6,\n",
       "  34,\n",
       "  68,\n",
       "  34,\n",
       "  49,\n",
       "  6,\n",
       "  6,\n",
       "  2,\n",
       "  2,\n",
       "  3],\n",
       " [2,\n",
       "  2,\n",
       "  3,\n",
       "  2,\n",
       "  4,\n",
       "  1,\n",
       "  2,\n",
       "  4,\n",
       "  1,\n",
       "  18,\n",
       "  24,\n",
       "  18,\n",
       "  41,\n",
       "  3,\n",
       "  44,\n",
       "  42,\n",
       "  12,\n",
       "  36,\n",
       "  41,\n",
       "  2,\n",
       "  2,\n",
       "  4,\n",
       "  2,\n",
       "  4],\n",
       " [4,\n",
       "  1,\n",
       "  2,\n",
       "  2,\n",
       "  3,\n",
       "  2,\n",
       "  5,\n",
       "  1,\n",
       "  2,\n",
       "  12,\n",
       "  33,\n",
       "  27,\n",
       "  43,\n",
       "  8,\n",
       "  38,\n",
       "  53,\n",
       "  29,\n",
       "  45,\n",
       "  39,\n",
       "  3,\n",
       "  1,\n",
       "  1,\n",
       "  3,\n",
       "  4],\n",
       " [2, 3, 1, 2, 2, 5, 2, 8, 4, 2, 3, 1, 5, 1, 2, 3, 2, 6, 1, 2, 2, 1, 4, 3],\n",
       " [1, 2, 3, 1, 1, 3, 4, 2, 3, 1, 2, 2, 5, 3, 2, 1, 4, 2, 45, 26, 33, 2, 2, 1]]"
      ]
     },
     "execution_count": 8,
     "metadata": {},
     "output_type": "execute_result"
    }
   ],
   "source": [
    "cpu_usage = [\n",
    "[3, 2, 4, 2, 4, 1, 1, 4, 4, 12, 22, 23,\n",
    "45, 9, 33, 56, 23, 40, 21, 6, 6, 2, 2, 3], # Monday\n",
    "[1, 2, 3, 2, 3, 2, 3, 2, 7, 22, 45, 44,\n",
    "33, 9, 23, 19, 33, 56, 12, 2, 3, 1, 2, 2], # Tuesday\n",
    "[2, 3, 1, 2, 4, 4, 2, 2, 1, 2, 5, 31,\n",
    "54, 7, 6, 34, 68, 34, 49, 6, 6, 2, 2, 3], # Wednesday\n",
    "[2, 2, 3, 2, 4, 1, 2, 4, 1, 18, 24, 18,\n",
    "41, 3, 44, 42, 12, 36, 41, 2, 2, 4, 2, 4], # Thursday\n",
    "[4, 1, 2, 2, 3, 2, 5, 1, 2, 12, 33, 27,\n",
    "43, 8, 38, 53, 29, 45, 39, 3, 1, 1, 3, 4], # Friday\n",
    "[2, 3, 1, 2, 2, 5, 2, 8, 4, 2, 3,\n",
    "1, 5, 1, 2, 3, 2, 6, 1, 2, 2, 1, 4, 3], # Saturday\n",
    "[1, 2, 3, 1, 1, 3, 4, 2, 3, 1, 2,\n",
    "2, 5, 3, 2, 1, 4, 2, 45, 26, 33, 2, 2, 1], # Sunday\n",
    "]\n",
    "cpu_usage"
   ]
  },
  {
   "cell_type": "code",
   "execution_count": 9,
   "metadata": {},
   "outputs": [
    {
     "data": {
      "text/plain": [
       "<AxesSubplot:>"
      ]
     },
     "execution_count": 9,
     "metadata": {},
     "output_type": "execute_result"
    },
    {
     "data": {
      "image/png": "[encoded data removed]",
      "text/plain": [
       "<Figure size 432x288 with 2 Axes>"
      ]
     },
     "metadata": {
      "needs_background": "light"
     },
     "output_type": "display_data"
    }
   ],
   "source": [
    "sns.heatmap(cpu_usage, yticklabels=days, xticklabels=hours, cmap='coolwarm')"
   ]
  },
  {
   "cell_type": "code",
   "execution_count": null,
   "metadata": {},
   "outputs": [],
   "source": []
  }
 ],
 "metadata": {
  "interpreter": {
   "hash": "4450880078075858cbf222bae280c06c54b3129f0895bf6ee2d99f8047754fe2"
  },
  "kernelspec": {
   "display_name": "Python 3.8.8 64-bit ('base': conda)",
   "language": "python",
   "name": "python3"
  },
  "language_info": {
   "codemirror_mode": {
    "name": "ipython",
    "version": 3
   },
   "file_extension": ".py",
   "mimetype": "text/x-python",
   "name": "python",
   "nbconvert_exporter": "python",
   "pygments_lexer": "ipython3",
   "version": "3.8.8"
  },
  "orig_nbformat": 4
 },
 "nbformat": 4,
 "nbformat_minor": 2
}
