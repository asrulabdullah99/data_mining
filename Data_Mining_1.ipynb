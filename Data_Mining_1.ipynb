{
  "nbformat": 4,
  "nbformat_minor": 0,
  "metadata": {
    "colab": {
      "name": "Data Mining 1.ipynb",
      "provenance": []
    },
    "kernelspec": {
      "name": "python3",
      "display_name": "Python 3"
    },
    "language_info": {
      "name": "python"
    }
  },
  "cells": [
    {
      "cell_type": "code",
      "metadata": {
        "id": "0dZU-9pWbJxY"
      },
      "source": [
        "import pandas as pd"
      ],
      "execution_count": 3,
      "outputs": []
    },
    {
      "cell_type": "code",
      "metadata": {
        "colab": {
          "base_uri": "https://localhost:8080/",
          "height": 424
        },
        "id": "jI53ujUGe6M3",
        "outputId": "54a7efe7-b823-487d-f08c-0f301a3b20cd"
      },
      "source": [
        "dataset = pd.read_csv('https://raw.githubusercontent.com/asrulabdullah99/data_mining/master/Customer.csv')\n",
        "dataset"
      ],
      "execution_count": 6,
      "outputs": [
        {
          "output_type": "execute_result",
          "data": {
            "text/html": [
              "<div>\n",
              "<style scoped>\n",
              "    .dataframe tbody tr th:only-of-type {\n",
              "        vertical-align: middle;\n",
              "    }\n",
              "\n",
              "    .dataframe tbody tr th {\n",
              "        vertical-align: top;\n",
              "    }\n",
              "\n",
              "    .dataframe thead th {\n",
              "        text-align: right;\n",
              "    }\n",
              "</style>\n",
              "<table border=\"1\" class=\"dataframe\">\n",
              "  <thead>\n",
              "    <tr style=\"text-align: right;\">\n",
              "      <th></th>\n",
              "      <th>IDPelanggan</th>\n",
              "      <th>Kelamin</th>\n",
              "      <th>Usia</th>\n",
              "      <th>Rating_belanja (1-100)</th>\n",
              "      <th>Pendapatan (juta Rp)</th>\n",
              "    </tr>\n",
              "  </thead>\n",
              "  <tbody>\n",
              "    <tr>\n",
              "      <th>0</th>\n",
              "      <td>1</td>\n",
              "      <td>Perempuan</td>\n",
              "      <td>23</td>\n",
              "      <td>87</td>\n",
              "      <td>29</td>\n",
              "    </tr>\n",
              "    <tr>\n",
              "      <th>1</th>\n",
              "      <td>2</td>\n",
              "      <td>Laki</td>\n",
              "      <td>60</td>\n",
              "      <td>4</td>\n",
              "      <td>30</td>\n",
              "    </tr>\n",
              "    <tr>\n",
              "      <th>2</th>\n",
              "      <td>3</td>\n",
              "      <td>Perempuan</td>\n",
              "      <td>21</td>\n",
              "      <td>73</td>\n",
              "      <td>30</td>\n",
              "    </tr>\n",
              "    <tr>\n",
              "      <th>3</th>\n",
              "      <td>4</td>\n",
              "      <td>Laki</td>\n",
              "      <td>53</td>\n",
              "      <td>4</td>\n",
              "      <td>33</td>\n",
              "    </tr>\n",
              "    <tr>\n",
              "      <th>4</th>\n",
              "      <td>5</td>\n",
              "      <td>Laki</td>\n",
              "      <td>18</td>\n",
              "      <td>92</td>\n",
              "      <td>33</td>\n",
              "    </tr>\n",
              "    <tr>\n",
              "      <th>...</th>\n",
              "      <td>...</td>\n",
              "      <td>...</td>\n",
              "      <td>...</td>\n",
              "      <td>...</td>\n",
              "      <td>...</td>\n",
              "    </tr>\n",
              "    <tr>\n",
              "      <th>195</th>\n",
              "      <td>196</td>\n",
              "      <td>Laki</td>\n",
              "      <td>28</td>\n",
              "      <td>75</td>\n",
              "      <td>87</td>\n",
              "    </tr>\n",
              "    <tr>\n",
              "      <th>196</th>\n",
              "      <td>197</td>\n",
              "      <td>Laki</td>\n",
              "      <td>36</td>\n",
              "      <td>10</td>\n",
              "      <td>87</td>\n",
              "    </tr>\n",
              "    <tr>\n",
              "      <th>197</th>\n",
              "      <td>198</td>\n",
              "      <td>Laki</td>\n",
              "      <td>36</td>\n",
              "      <td>92</td>\n",
              "      <td>87</td>\n",
              "    </tr>\n",
              "    <tr>\n",
              "      <th>198</th>\n",
              "      <td>199</td>\n",
              "      <td>Perempuan</td>\n",
              "      <td>52</td>\n",
              "      <td>13</td>\n",
              "      <td>88</td>\n",
              "    </tr>\n",
              "    <tr>\n",
              "      <th>199</th>\n",
              "      <td>200</td>\n",
              "      <td>Perempuan</td>\n",
              "      <td>30</td>\n",
              "      <td>86</td>\n",
              "      <td>88</td>\n",
              "    </tr>\n",
              "  </tbody>\n",
              "</table>\n",
              "<p>200 rows × 5 columns</p>\n",
              "</div>"
            ],
            "text/plain": [
              "     IDPelanggan    Kelamin  Usia  Rating_belanja (1-100)  Pendapatan (juta Rp)\n",
              "0              1  Perempuan    23                      87                    29\n",
              "1              2       Laki    60                       4                    30\n",
              "2              3  Perempuan    21                      73                    30\n",
              "3              4       Laki    53                       4                    33\n",
              "4              5       Laki    18                      92                    33\n",
              "..           ...        ...   ...                     ...                   ...\n",
              "195          196       Laki    28                      75                    87\n",
              "196          197       Laki    36                      10                    87\n",
              "197          198       Laki    36                      92                    87\n",
              "198          199  Perempuan    52                      13                    88\n",
              "199          200  Perempuan    30                      86                    88\n",
              "\n",
              "[200 rows x 5 columns]"
            ]
          },
          "metadata": {},
          "execution_count": 6
        }
      ]
    },
    {
      "cell_type": "code",
      "metadata": {
        "colab": {
          "base_uri": "https://localhost:8080/",
          "height": 206
        },
        "id": "5gBMQI0rfdFI",
        "outputId": "ab3d2667-8b61-45ff-f9d4-d7040a113c05"
      },
      "source": [
        "dataset.head()"
      ],
      "execution_count": 7,
      "outputs": [
        {
          "output_type": "execute_result",
          "data": {
            "text/html": [
              "<div>\n",
              "<style scoped>\n",
              "    .dataframe tbody tr th:only-of-type {\n",
              "        vertical-align: middle;\n",
              "    }\n",
              "\n",
              "    .dataframe tbody tr th {\n",
              "        vertical-align: top;\n",
              "    }\n",
              "\n",
              "    .dataframe thead th {\n",
              "        text-align: right;\n",
              "    }\n",
              "</style>\n",
              "<table border=\"1\" class=\"dataframe\">\n",
              "  <thead>\n",
              "    <tr style=\"text-align: right;\">\n",
              "      <th></th>\n",
              "      <th>IDPelanggan</th>\n",
              "      <th>Kelamin</th>\n",
              "      <th>Usia</th>\n",
              "      <th>Rating_belanja (1-100)</th>\n",
              "      <th>Pendapatan (juta Rp)</th>\n",
              "    </tr>\n",
              "  </thead>\n",
              "  <tbody>\n",
              "    <tr>\n",
              "      <th>0</th>\n",
              "      <td>1</td>\n",
              "      <td>Perempuan</td>\n",
              "      <td>23</td>\n",
              "      <td>87</td>\n",
              "      <td>29</td>\n",
              "    </tr>\n",
              "    <tr>\n",
              "      <th>1</th>\n",
              "      <td>2</td>\n",
              "      <td>Laki</td>\n",
              "      <td>60</td>\n",
              "      <td>4</td>\n",
              "      <td>30</td>\n",
              "    </tr>\n",
              "    <tr>\n",
              "      <th>2</th>\n",
              "      <td>3</td>\n",
              "      <td>Perempuan</td>\n",
              "      <td>21</td>\n",
              "      <td>73</td>\n",
              "      <td>30</td>\n",
              "    </tr>\n",
              "    <tr>\n",
              "      <th>3</th>\n",
              "      <td>4</td>\n",
              "      <td>Laki</td>\n",
              "      <td>53</td>\n",
              "      <td>4</td>\n",
              "      <td>33</td>\n",
              "    </tr>\n",
              "    <tr>\n",
              "      <th>4</th>\n",
              "      <td>5</td>\n",
              "      <td>Laki</td>\n",
              "      <td>18</td>\n",
              "      <td>92</td>\n",
              "      <td>33</td>\n",
              "    </tr>\n",
              "  </tbody>\n",
              "</table>\n",
              "</div>"
            ],
            "text/plain": [
              "   IDPelanggan    Kelamin  Usia  Rating_belanja (1-100)  Pendapatan (juta Rp)\n",
              "0            1  Perempuan    23                      87                    29\n",
              "1            2       Laki    60                       4                    30\n",
              "2            3  Perempuan    21                      73                    30\n",
              "3            4       Laki    53                       4                    33\n",
              "4            5       Laki    18                      92                    33"
            ]
          },
          "metadata": {},
          "execution_count": 7
        }
      ]
    },
    {
      "cell_type": "code",
      "metadata": {
        "colab": {
          "base_uri": "https://localhost:8080/"
        },
        "id": "XjSEe241gGW3",
        "outputId": "f2debd77-054d-431f-da4a-f571f91e1301"
      },
      "source": [
        "dataset.info"
      ],
      "execution_count": 8,
      "outputs": [
        {
          "output_type": "execute_result",
          "data": {
            "text/plain": [
              "<bound method DataFrame.info of      IDPelanggan    Kelamin  Usia  Rating_belanja (1-100)  Pendapatan (juta Rp)\n",
              "0              1  Perempuan    23                      87                    29\n",
              "1              2       Laki    60                       4                    30\n",
              "2              3  Perempuan    21                      73                    30\n",
              "3              4       Laki    53                       4                    33\n",
              "4              5       Laki    18                      92                    33\n",
              "..           ...        ...   ...                     ...                   ...\n",
              "195          196       Laki    28                      75                    87\n",
              "196          197       Laki    36                      10                    87\n",
              "197          198       Laki    36                      92                    87\n",
              "198          199  Perempuan    52                      13                    88\n",
              "199          200  Perempuan    30                      86                    88\n",
              "\n",
              "[200 rows x 5 columns]>"
            ]
          },
          "metadata": {},
          "execution_count": 8
        }
      ]
    },
    {
      "cell_type": "code",
      "metadata": {
        "colab": {
          "base_uri": "https://localhost:8080/"
        },
        "id": "n6SAIpsZgKoP",
        "outputId": "9e56cbc3-22c7-40dd-c3b2-d7ca876d68bf"
      },
      "source": [
        "dataset.describe"
      ],
      "execution_count": 9,
      "outputs": [
        {
          "output_type": "execute_result",
          "data": {
            "text/plain": [
              "<bound method NDFrame.describe of      IDPelanggan    Kelamin  Usia  Rating_belanja (1-100)  Pendapatan (juta Rp)\n",
              "0              1  Perempuan    23                      87                    29\n",
              "1              2       Laki    60                       4                    30\n",
              "2              3  Perempuan    21                      73                    30\n",
              "3              4       Laki    53                       4                    33\n",
              "4              5       Laki    18                      92                    33\n",
              "..           ...        ...   ...                     ...                   ...\n",
              "195          196       Laki    28                      75                    87\n",
              "196          197       Laki    36                      10                    87\n",
              "197          198       Laki    36                      92                    87\n",
              "198          199  Perempuan    52                      13                    88\n",
              "199          200  Perempuan    30                      86                    88\n",
              "\n",
              "[200 rows x 5 columns]>"
            ]
          },
          "metadata": {},
          "execution_count": 9
        }
      ]
    },
    {
      "cell_type": "code",
      "metadata": {
        "colab": {
          "base_uri": "https://localhost:8080/"
        },
        "id": "aLwDUDAxgOGw",
        "outputId": "85734574-8cc6-4726-9304-dff1bb083b62"
      },
      "source": [
        "import matplotlib.pyplot as plt\n",
        "x = dataset.iloc[:,2]\n",
        "x"
      ],
      "execution_count": 10,
      "outputs": [
        {
          "output_type": "execute_result",
          "data": {
            "text/plain": [
              "0      23\n",
              "1      60\n",
              "2      21\n",
              "3      53\n",
              "4      18\n",
              "       ..\n",
              "195    28\n",
              "196    36\n",
              "197    36\n",
              "198    52\n",
              "199    30\n",
              "Name: Usia, Length: 200, dtype: int64"
            ]
          },
          "metadata": {},
          "execution_count": 10
        }
      ]
    },
    {
      "cell_type": "code",
      "metadata": {
        "colab": {
          "base_uri": "https://localhost:8080/"
        },
        "id": "UmarJe3pgji6",
        "outputId": "8fb58a69-c127-4bec-efad-39804b3f49da"
      },
      "source": [
        "y = dataset.iloc[:,3]\n",
        "y"
      ],
      "execution_count": 11,
      "outputs": [
        {
          "output_type": "execute_result",
          "data": {
            "text/plain": [
              "0      87\n",
              "1       4\n",
              "2      73\n",
              "3       4\n",
              "4      92\n",
              "       ..\n",
              "195    75\n",
              "196    10\n",
              "197    92\n",
              "198    13\n",
              "199    86\n",
              "Name: Rating_belanja (1-100), Length: 200, dtype: int64"
            ]
          },
          "metadata": {},
          "execution_count": 11
        }
      ]
    },
    {
      "cell_type": "code",
      "metadata": {
        "colab": {
          "base_uri": "https://localhost:8080/",
          "height": 296
        },
        "id": "WgQgRe3bgrNS",
        "outputId": "a5a4568a-21bb-4e3e-dd98-fbde098a2953"
      },
      "source": [
        "plt.scatter(x,y)\n",
        "plt.xlabel(\"Usia\")\n",
        "plt.ylabel(\"Rating\")"
      ],
      "execution_count": 13,
      "outputs": [
        {
          "output_type": "execute_result",
          "data": {
            "text/plain": [
              "Text(0, 0.5, 'Rating')"
            ]
          },
          "metadata": {},
          "execution_count": 13
        },
        {
          "output_type": "display_data",
          "data": {
            "image/png": "[encoded data removed]",
            "text/plain": [
              "<Figure size 432x288 with 1 Axes>"
            ]
          },
          "metadata": {
            "needs_background": "light"
          }
        }
      ]
    },
    {
      "cell_type": "code",
      "metadata": {
        "id": "PlI68KcVg5mV"
      },
      "source": [
        ""
      ],
      "execution_count": null,
      "outputs": []
    }
  ]
}