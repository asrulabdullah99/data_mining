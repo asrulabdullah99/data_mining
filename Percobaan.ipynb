{
  "nbformat": 4,
  "nbformat_minor": 0,
  "metadata": {
    "colab": {
      "name": "Percobaan.ipynb",
      "provenance": []
    },
    "kernelspec": {
      "name": "python3",
      "display_name": "Python 3"
    },
    "language_info": {
      "name": "python"
    }
  },
  "cells": [
    {
      "cell_type": "code",
      "metadata": {
        "id": "CZEYLFAP4esh"
      },
      "source": [
        "#linear regression y = a + bx\n",
        "a = 2\n",
        "b = 4"
      ],
      "execution_count": 1,
      "outputs": []
    },
    {
      "cell_type": "code",
      "metadata": {
        "colab": {
          "base_uri": "https://localhost:8080/"
        },
        "id": "w90d0Bfq5-Pz",
        "outputId": "88c37a60-c12d-4ab6-cda7-d9a69cd01960"
      },
      "source": [
        "import numpy as np\n",
        "import matplotlib.pyplot as plt\n",
        "\n",
        "x = np.linspace(1,1000,num=10000)\n",
        "x"
      ],
      "execution_count": 2,
      "outputs": [
        {
          "output_type": "execute_result",
          "data": {
            "text/plain": [
              "array([   1.        ,    1.09990999,    1.19981998, ...,  999.80018002,\n",
              "        999.90009001, 1000.        ])"
            ]
          },
          "metadata": {},
          "execution_count": 2
        }
      ]
    },
    {
      "cell_type": "code",
      "metadata": {
        "colab": {
          "base_uri": "https://localhost:8080/"
        },
        "id": "s-3rYggz6WLa",
        "outputId": "c1670388-2680-49f0-b7e9-3ff5bdd9b5bb"
      },
      "source": [
        "x.dtype"
      ],
      "execution_count": 5,
      "outputs": [
        {
          "output_type": "execute_result",
          "data": {
            "text/plain": [
              "dtype('float64')"
            ]
          },
          "metadata": {},
          "execution_count": 5
        }
      ]
    },
    {
      "cell_type": "code",
      "metadata": {
        "colab": {
          "base_uri": "https://localhost:8080/"
        },
        "id": "k2CJx-I76cK4",
        "outputId": "2a957407-f92c-4447-bb24-642bc64b9a76"
      },
      "source": [
        "y = 2 + 4*x\n",
        "y"
      ],
      "execution_count": 6,
      "outputs": [
        {
          "output_type": "execute_result",
          "data": {
            "text/plain": [
              "array([   6.        ,    6.39963996,    6.79927993, ..., 4001.20072007,\n",
              "       4001.60036004, 4002.        ])"
            ]
          },
          "metadata": {},
          "execution_count": 6
        }
      ]
    },
    {
      "cell_type": "code",
      "metadata": {
        "colab": {
          "base_uri": "https://localhost:8080/",
          "height": 296
        },
        "id": "xWHxDH3T6wA0",
        "outputId": "6ad05f56-d568-4893-9be0-98c6f0e58843"
      },
      "source": [
        "plt.plot(x,y,'r-')\n",
        "plt.xlabel('X')\n",
        "plt.ylabel('Y')"
      ],
      "execution_count": 7,
      "outputs": [
        {
          "output_type": "execute_result",
          "data": {
            "text/plain": [
              "Text(0, 0.5, 'Y')"
            ]
          },
          "metadata": {},
          "execution_count": 7
        },
        {
          "output_type": "display_data",
          "data": {
            "image/png": "[encoded data removed]",
            "text/plain": [
              "<Figure size 432x288 with 1 Axes>"
            ]
          },
          "metadata": {
            "needs_background": "light"
          }
        }
      ]
    },
    {
      "cell_type": "code",
      "metadata": {
        "colab": {
          "base_uri": "https://localhost:8080/",
          "height": 424
        },
        "id": "6zKXyYf06_qd",
        "outputId": "ef35c7b9-a72f-4b5d-f9f2-7e4b2f50a55f"
      },
      "source": [
        "import pandas as pd \n",
        "\n",
        "dataset = pd.read_csv('https://raw.githubusercontent.com/asrulabdullah99/data_mining/master/Customer.csv')\n",
        "dataset"
      ],
      "execution_count": 8,
      "outputs": [
        {
          "output_type": "execute_result",
          "data": {
            "text/html": [
              "<div>\n",
              "<style scoped>\n",
              "    .dataframe tbody tr th:only-of-type {\n",
              "        vertical-align: middle;\n",
              "    }\n",
              "\n",
              "    .dataframe tbody tr th {\n",
              "        vertical-align: top;\n",
              "    }\n",
              "\n",
              "    .dataframe thead th {\n",
              "        text-align: right;\n",
              "    }\n",
              "</style>\n",
              "<table border=\"1\" class=\"dataframe\">\n",
              "  <thead>\n",
              "    <tr style=\"text-align: right;\">\n",
              "      <th></th>\n",
              "      <th>IDPelanggan</th>\n",
              "      <th>Kelamin</th>\n",
              "      <th>Usia</th>\n",
              "      <th>Rating_belanja (1-100)</th>\n",
              "      <th>Pendapatan (juta Rp)</th>\n",
              "    </tr>\n",
              "  </thead>\n",
              "  <tbody>\n",
              "    <tr>\n",
              "      <th>0</th>\n",
              "      <td>1</td>\n",
              "      <td>Perempuan</td>\n",
              "      <td>23</td>\n",
              "      <td>87</td>\n",
              "      <td>29</td>\n",
              "    </tr>\n",
              "    <tr>\n",
              "      <th>1</th>\n",
              "      <td>2</td>\n",
              "      <td>Laki</td>\n",
              "      <td>60</td>\n",
              "      <td>4</td>\n",
              "      <td>30</td>\n",
              "    </tr>\n",
              "    <tr>\n",
              "      <th>2</th>\n",
              "      <td>3</td>\n",
              "      <td>Perempuan</td>\n",
              "      <td>21</td>\n",
              "      <td>73</td>\n",
              "      <td>30</td>\n",
              "    </tr>\n",
              "    <tr>\n",
              "      <th>3</th>\n",
              "      <td>4</td>\n",
              "      <td>Laki</td>\n",
              "      <td>53</td>\n",
              "      <td>4</td>\n",
              "      <td>33</td>\n",
              "    </tr>\n",
              "    <tr>\n",
              "      <th>4</th>\n",
              "      <td>5</td>\n",
              "      <td>Laki</td>\n",
              "      <td>18</td>\n",
              "      <td>92</td>\n",
              "      <td>33</td>\n",
              "    </tr>\n",
              "    <tr>\n",
              "      <th>...</th>\n",
              "      <td>...</td>\n",
              "      <td>...</td>\n",
              "      <td>...</td>\n",
              "      <td>...</td>\n",
              "      <td>...</td>\n",
              "    </tr>\n",
              "    <tr>\n",
              "      <th>195</th>\n",
              "      <td>196</td>\n",
              "      <td>Laki</td>\n",
              "      <td>28</td>\n",
              "      <td>75</td>\n",
              "      <td>87</td>\n",
              "    </tr>\n",
              "    <tr>\n",
              "      <th>196</th>\n",
              "      <td>197</td>\n",
              "      <td>Laki</td>\n",
              "      <td>36</td>\n",
              "      <td>10</td>\n",
              "      <td>87</td>\n",
              "    </tr>\n",
              "    <tr>\n",
              "      <th>197</th>\n",
              "      <td>198</td>\n",
              "      <td>Laki</td>\n",
              "      <td>36</td>\n",
              "      <td>92</td>\n",
              "      <td>87</td>\n",
              "    </tr>\n",
              "    <tr>\n",
              "      <th>198</th>\n",
              "      <td>199</td>\n",
              "      <td>Perempuan</td>\n",
              "      <td>52</td>\n",
              "      <td>13</td>\n",
              "      <td>88</td>\n",
              "    </tr>\n",
              "    <tr>\n",
              "      <th>199</th>\n",
              "      <td>200</td>\n",
              "      <td>Perempuan</td>\n",
              "      <td>30</td>\n",
              "      <td>86</td>\n",
              "      <td>88</td>\n",
              "    </tr>\n",
              "  </tbody>\n",
              "</table>\n",
              "<p>200 rows × 5 columns</p>\n",
              "</div>"
            ],
            "text/plain": [
              "     IDPelanggan    Kelamin  Usia  Rating_belanja (1-100)  Pendapatan (juta Rp)\n",
              "0              1  Perempuan    23                      87                    29\n",
              "1              2       Laki    60                       4                    30\n",
              "2              3  Perempuan    21                      73                    30\n",
              "3              4       Laki    53                       4                    33\n",
              "4              5       Laki    18                      92                    33\n",
              "..           ...        ...   ...                     ...                   ...\n",
              "195          196       Laki    28                      75                    87\n",
              "196          197       Laki    36                      10                    87\n",
              "197          198       Laki    36                      92                    87\n",
              "198          199  Perempuan    52                      13                    88\n",
              "199          200  Perempuan    30                      86                    88\n",
              "\n",
              "[200 rows x 5 columns]"
            ]
          },
          "metadata": {},
          "execution_count": 8
        }
      ]
    },
    {
      "cell_type": "code",
      "metadata": {
        "colab": {
          "base_uri": "https://localhost:8080/"
        },
        "id": "eJBgZZf8839u",
        "outputId": "1c260d87-6731-45f9-9a57-0af2b8127c88"
      },
      "source": [
        "dataset.describe"
      ],
      "execution_count": 9,
      "outputs": [
        {
          "output_type": "execute_result",
          "data": {
            "text/plain": [
              "<bound method NDFrame.describe of      IDPelanggan    Kelamin  Usia  Rating_belanja (1-100)  Pendapatan (juta Rp)\n",
              "0              1  Perempuan    23                      87                    29\n",
              "1              2       Laki    60                       4                    30\n",
              "2              3  Perempuan    21                      73                    30\n",
              "3              4       Laki    53                       4                    33\n",
              "4              5       Laki    18                      92                    33\n",
              "..           ...        ...   ...                     ...                   ...\n",
              "195          196       Laki    28                      75                    87\n",
              "196          197       Laki    36                      10                    87\n",
              "197          198       Laki    36                      92                    87\n",
              "198          199  Perempuan    52                      13                    88\n",
              "199          200  Perempuan    30                      86                    88\n",
              "\n",
              "[200 rows x 5 columns]>"
            ]
          },
          "metadata": {},
          "execution_count": 9
        }
      ]
    },
    {
      "cell_type": "code",
      "metadata": {
        "colab": {
          "base_uri": "https://localhost:8080/",
          "height": 300
        },
        "id": "EpY7mMpL88C5",
        "outputId": "b5030e56-8d55-48c5-e650-6b753d7ef836"
      },
      "source": [
        "dataset.describe()"
      ],
      "execution_count": 11,
      "outputs": [
        {
          "output_type": "execute_result",
          "data": {
            "text/html": [
              "<div>\n",
              "<style scoped>\n",
              "    .dataframe tbody tr th:only-of-type {\n",
              "        vertical-align: middle;\n",
              "    }\n",
              "\n",
              "    .dataframe tbody tr th {\n",
              "        vertical-align: top;\n",
              "    }\n",
              "\n",
              "    .dataframe thead th {\n",
              "        text-align: right;\n",
              "    }\n",
              "</style>\n",
              "<table border=\"1\" class=\"dataframe\">\n",
              "  <thead>\n",
              "    <tr style=\"text-align: right;\">\n",
              "      <th></th>\n",
              "      <th>IDPelanggan</th>\n",
              "      <th>Usia</th>\n",
              "      <th>Rating_belanja (1-100)</th>\n",
              "      <th>Pendapatan (juta Rp)</th>\n",
              "    </tr>\n",
              "  </thead>\n",
              "  <tbody>\n",
              "    <tr>\n",
              "      <th>count</th>\n",
              "      <td>200.000000</td>\n",
              "      <td>200.000000</td>\n",
              "      <td>200.000000</td>\n",
              "      <td>200.000000</td>\n",
              "    </tr>\n",
              "    <tr>\n",
              "      <th>mean</th>\n",
              "      <td>100.500000</td>\n",
              "      <td>38.850000</td>\n",
              "      <td>50.200000</td>\n",
              "      <td>60.560000</td>\n",
              "    </tr>\n",
              "    <tr>\n",
              "      <th>std</th>\n",
              "      <td>57.879185</td>\n",
              "      <td>13.969007</td>\n",
              "      <td>25.823522</td>\n",
              "      <td>26.264721</td>\n",
              "    </tr>\n",
              "    <tr>\n",
              "      <th>min</th>\n",
              "      <td>1.000000</td>\n",
              "      <td>18.000000</td>\n",
              "      <td>1.000000</td>\n",
              "      <td>15.000000</td>\n",
              "    </tr>\n",
              "    <tr>\n",
              "      <th>25%</th>\n",
              "      <td>50.750000</td>\n",
              "      <td>28.750000</td>\n",
              "      <td>34.750000</td>\n",
              "      <td>41.500000</td>\n",
              "    </tr>\n",
              "    <tr>\n",
              "      <th>50%</th>\n",
              "      <td>100.500000</td>\n",
              "      <td>36.000000</td>\n",
              "      <td>50.000000</td>\n",
              "      <td>61.500000</td>\n",
              "    </tr>\n",
              "    <tr>\n",
              "      <th>75%</th>\n",
              "      <td>150.250000</td>\n",
              "      <td>49.000000</td>\n",
              "      <td>73.000000</td>\n",
              "      <td>78.000000</td>\n",
              "    </tr>\n",
              "    <tr>\n",
              "      <th>max</th>\n",
              "      <td>200.000000</td>\n",
              "      <td>70.000000</td>\n",
              "      <td>99.000000</td>\n",
              "      <td>137.000000</td>\n",
              "    </tr>\n",
              "  </tbody>\n",
              "</table>\n",
              "</div>"
            ],
            "text/plain": [
              "       IDPelanggan        Usia  Rating_belanja (1-100)  Pendapatan (juta Rp)\n",
              "count   200.000000  200.000000              200.000000            200.000000\n",
              "mean    100.500000   38.850000               50.200000             60.560000\n",
              "std      57.879185   13.969007               25.823522             26.264721\n",
              "min       1.000000   18.000000                1.000000             15.000000\n",
              "25%      50.750000   28.750000               34.750000             41.500000\n",
              "50%     100.500000   36.000000               50.000000             61.500000\n",
              "75%     150.250000   49.000000               73.000000             78.000000\n",
              "max     200.000000   70.000000               99.000000            137.000000"
            ]
          },
          "metadata": {},
          "execution_count": 11
        }
      ]
    },
    {
      "cell_type": "code",
      "metadata": {
        "colab": {
          "base_uri": "https://localhost:8080/"
        },
        "id": "7giVw7-w9Bnm",
        "outputId": "b07836d5-6fe7-4f2f-d2c1-233eea330588"
      },
      "source": [
        "usia = dataset.iloc[:,2]\n",
        "usia"
      ],
      "execution_count": 14,
      "outputs": [
        {
          "output_type": "execute_result",
          "data": {
            "text/plain": [
              "0      23\n",
              "1      60\n",
              "2      21\n",
              "3      53\n",
              "4      18\n",
              "       ..\n",
              "195    28\n",
              "196    36\n",
              "197    36\n",
              "198    52\n",
              "199    30\n",
              "Name: Usia, Length: 200, dtype: int64"
            ]
          },
          "metadata": {},
          "execution_count": 14
        }
      ]
    },
    {
      "cell_type": "code",
      "metadata": {
        "colab": {
          "base_uri": "https://localhost:8080/"
        },
        "id": "SIcwdeGh9ojU",
        "outputId": "9141da96-06d4-4fc5-82a1-2c6693a04a99"
      },
      "source": [
        "rating = dataset.iloc[:,3]\n",
        "rating"
      ],
      "execution_count": 15,
      "outputs": [
        {
          "output_type": "execute_result",
          "data": {
            "text/plain": [
              "0      87\n",
              "1       4\n",
              "2      73\n",
              "3       4\n",
              "4      92\n",
              "       ..\n",
              "195    75\n",
              "196    10\n",
              "197    92\n",
              "198    13\n",
              "199    86\n",
              "Name: Rating_belanja (1-100), Length: 200, dtype: int64"
            ]
          },
          "metadata": {},
          "execution_count": 15
        }
      ]
    },
    {
      "cell_type": "code",
      "metadata": {
        "colab": {
          "base_uri": "https://localhost:8080/",
          "height": 296
        },
        "id": "5dA1WxTR97Lr",
        "outputId": "5006e024-23bb-4bee-b027-7f4ecb878649"
      },
      "source": [
        "plt.scatter(usia,rating)\n",
        "plt.xlabel('usia')\n",
        "plt.ylabel('rating')"
      ],
      "execution_count": 24,
      "outputs": [
        {
          "output_type": "execute_result",
          "data": {
            "text/plain": [
              "Text(0, 0.5, 'rating')"
            ]
          },
          "metadata": {},
          "execution_count": 24
        },
        {
          "output_type": "display_data",
          "data": {
            "image/png": "[encoded data removed]",
            "text/plain": [
              "<Figure size 432x288 with 1 Axes>"
            ]
          },
          "metadata": {
            "needs_background": "light"
          }
        }
      ]
    },
    {
      "cell_type": "code",
      "metadata": {
        "colab": {
          "base_uri": "https://localhost:8080/"
        },
        "id": "AdrXwxE3-fd8",
        "outputId": "4c3e6073-ffea-4a1c-8d57-6b179c8c55dc"
      },
      "source": [
        "pendapatan = dataset.iloc[:,4]\n",
        "pendapatan"
      ],
      "execution_count": 25,
      "outputs": [
        {
          "output_type": "execute_result",
          "data": {
            "text/plain": [
              "0      29\n",
              "1      30\n",
              "2      30\n",
              "3      33\n",
              "4      33\n",
              "       ..\n",
              "195    87\n",
              "196    87\n",
              "197    87\n",
              "198    88\n",
              "199    88\n",
              "Name: Pendapatan (juta Rp), Length: 200, dtype: int64"
            ]
          },
          "metadata": {},
          "execution_count": 25
        }
      ]
    },
    {
      "cell_type": "code",
      "metadata": {
        "colab": {
          "base_uri": "https://localhost:8080/",
          "height": 282
        },
        "id": "MPwar0qC_p5Z",
        "outputId": "00be1216-4daa-4783-e7e9-be99d1920f88"
      },
      "source": [
        "plt.scatter(usia,pendapatan)"
      ],
      "execution_count": 26,
      "outputs": [
        {
          "output_type": "execute_result",
          "data": {
            "text/plain": [
              "<matplotlib.collections.PathCollection at 0x7fc2392f1a50>"
            ]
          },
          "metadata": {},
          "execution_count": 26
        },
        {
          "output_type": "display_data",
          "data": {
            "image/png": "[encoded data removed]",
            "text/plain": [
              "<Figure size 432x288 with 1 Axes>"
            ]
          },
          "metadata": {
            "needs_background": "light"
          }
        }
      ]
    },
    {
      "cell_type": "code",
      "metadata": {
        "id": "VCKRhrke_u9U"
      },
      "source": [
        ""
      ],
      "execution_count": null,
      "outputs": []
    }
  ]
}