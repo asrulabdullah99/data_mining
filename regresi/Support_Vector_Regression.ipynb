{
  "nbformat": 4,
  "nbformat_minor": 0,
  "metadata": {
    "colab": {
      "name": "Support Vector Regression.ipynb",
      "provenance": []
    },
    "kernelspec": {
      "name": "python3",
      "display_name": "Python 3"
    },
    "language_info": {
      "name": "python"
    }
  },
  "cells": [
    {
      "cell_type": "markdown",
      "metadata": {
        "id": "a3tIZU7it38j"
      },
      "source": [
        "# <center>Support Vector Regression (SVR)</center>\n",
        "\n",
        "SVR memberi fleksibilitas untuk menentukan seberapa besar kesalahan yang dapat diterima dalam model dan akan menemukan garis yang sesuai (atau hyperplane dalam dimensi yang lebih tinggi) agar sesuai dengan data.\n",
        "Berbeda dengan Least Square biasa, fungsi tujuan SVR adalah untuk meminimalkan koefisien — lebih khusus lagi, l2-norm vektor koefisien — bukan squared error.\n"
      ]
    },
    {
      "cell_type": "markdown",
      "metadata": {
        "id": "eqd7fpy7ukjX"
      },
      "source": [
        "Mengimpor libraries yang diperlukan"
      ]
    },
    {
      "cell_type": "code",
      "metadata": {
        "id": "bBopQcGotMlP"
      },
      "source": [
        "import numpy as np\n",
        "import matplotlib.pyplot as plt\n",
        "import pandas as pd\n",
        "import sklearn "
      ],
      "execution_count": null,
      "outputs": []
    },
    {
      "cell_type": "markdown",
      "metadata": {
        "button": false,
        "deletable": true,
        "new_sheet": false,
        "run_control": {
          "read_only": false
        },
        "id": "Tg7ro0zGGXTa"
      },
      "source": [
        "### Pengunduhan Data\n",
        "Untuk mengunduh data, gunakan !wget dengan URL yang diberikan."
      ]
    },
    {
      "cell_type": "code",
      "metadata": {
        "button": false,
        "deletable": true,
        "new_sheet": false,
        "run_control": {
          "read_only": false
        },
        "id": "LnGW9d8wGXTd"
      },
      "source": [
        "!wget -O FuelConsumption.csv https://s3-api.us-geo.objectstorage.softlayer.net/cf-courses-data/CognitiveClass/ML0101ENv3/labs/FuelConsumptionCo2.csv"
      ],
      "execution_count": null,
      "outputs": []
    },
    {
      "cell_type": "markdown",
      "metadata": {
        "button": false,
        "deletable": true,
        "new_sheet": false,
        "run_control": {
          "read_only": false
        },
        "id": "0GCwBPg2vM3Z"
      },
      "source": [
        "\n",
        "## Memahami Data\n",
        "\n",
        "### `FuelConsumption.csv`:\n",
        "Dataset **`FuelConsumption.csv`** yang diunduh mengandung model spesifik untuk rating konsumsi bahan bakar (fuel consumption) dan estimasi emisi karbon dioksida untuk kendaraan ringan yang dijual di Kanada.\n",
        "[Dataset source](http://open.canada.ca/data/en/dataset/98f1a129-f628-4ce4-b24d-6f16bf24dd64)\n",
        "\n",
        "- **MODELYEAR** e.g. 2014\n",
        "- **MAKE** e.g. Acura\n",
        "- **MODEL** e.g. ILX\n",
        "- **VEHICLE CLASS** e.g. SUV\n",
        "- **ENGINE SIZE** e.g. 4.7\n",
        "- **CYLINDERS** e.g 6\n",
        "- **TRANSMISSION** e.g. A6\n",
        "- **FUEL CONSUMPTION in CITY(L/100 km)** e.g. 9.9\n",
        "- **FUEL CONSUMPTION in HWY (L/100 km)** e.g. 8.9\n",
        "- **FUEL CONSUMPTION COMB (L/100 km)** e.g. 9.2\n",
        "- **CO2 EMISSIONS (g/km)** e.g. 182   --> low --> 0\n"
      ]
    },
    {
      "cell_type": "markdown",
      "metadata": {
        "button": false,
        "deletable": true,
        "new_sheet": false,
        "run_control": {
          "read_only": false
        },
        "id": "1PLElrFxGXTo"
      },
      "source": [
        "## Membaca Data"
      ]
    },
    {
      "cell_type": "code",
      "metadata": {
        "button": false,
        "deletable": true,
        "new_sheet": false,
        "run_control": {
          "read_only": false
        },
        "id": "wqYrHtvzGXTq"
      },
      "source": [
        "df = pd.read_csv(\"FuelConsumption.csv\")\n",
        "\n",
        "# melihat dataset\n",
        "df.head()\n",
        "\n"
      ],
      "execution_count": null,
      "outputs": []
    },
    {
      "cell_type": "markdown",
      "metadata": {
        "button": false,
        "deletable": true,
        "new_sheet": false,
        "run_control": {
          "read_only": false
        },
        "id": "4BKtxdQUGXTx"
      },
      "source": [
        "### Eksplorasi Data\n",
        "Eksplorasi deskriptif data yang diunduh."
      ]
    },
    {
      "cell_type": "code",
      "metadata": {
        "button": false,
        "deletable": true,
        "new_sheet": false,
        "run_control": {
          "read_only": false
        },
        "id": "oofcfrhGGXTz"
      },
      "source": [
        "# merangkum data\n",
        "df.describe()"
      ],
      "execution_count": null,
      "outputs": []
    },
    {
      "cell_type": "markdown",
      "metadata": {
        "id": "VsUKG_5RGXT5"
      },
      "source": [
        "Beberapa fitur dapat dieksplorasi dengan cara berikut."
      ]
    },
    {
      "cell_type": "code",
      "metadata": {
        "button": false,
        "deletable": true,
        "new_sheet": false,
        "run_control": {
          "read_only": false
        },
        "id": "T8BaexHKGXT8"
      },
      "source": [
        "cdf = df[['ENGINESIZE','CYLINDERS','FUELCONSUMPTION_COMB','CO2EMISSIONS']]\n",
        "cdf.head(10)"
      ],
      "execution_count": null,
      "outputs": []
    },
    {
      "cell_type": "markdown",
      "metadata": {
        "id": "uRAoa2f9GXUC"
      },
      "source": [
        "Fitur-fitur tersebut dapat diplot sebagai berikut:"
      ]
    },
    {
      "cell_type": "code",
      "metadata": {
        "button": false,
        "deletable": true,
        "new_sheet": false,
        "run_control": {
          "read_only": false
        },
        "id": "byd4CsKAGXUF"
      },
      "source": [
        "viz = cdf[['CYLINDERS','ENGINESIZE','CO2EMISSIONS','FUELCONSUMPTION_COMB']]\n",
        "viz.hist()\n",
        "plt.show()"
      ],
      "execution_count": null,
      "outputs": []
    },
    {
      "cell_type": "markdown",
      "metadata": {
        "id": "u9NwOtitGXUM"
      },
      "source": [
        "Plot fitur-fitur vs emisi dapat dibuat dan dapat dilihat linearitas hubungannya."
      ]
    },
    {
      "cell_type": "code",
      "metadata": {
        "button": false,
        "deletable": true,
        "new_sheet": false,
        "run_control": {
          "read_only": false
        },
        "id": "LPzcACf5GXUO"
      },
      "source": [
        "plt.scatter(cdf.FUELCONSUMPTION_COMB, cdf.CO2EMISSIONS,  color='blue')\n",
        "plt.xlabel(\"FUELCONSUMPTION_COMB\")\n",
        "plt.ylabel(\"Emission\")\n",
        "plt.show()"
      ],
      "execution_count": null,
      "outputs": []
    },
    {
      "cell_type": "code",
      "metadata": {
        "button": false,
        "deletable": true,
        "new_sheet": false,
        "run_control": {
          "read_only": false
        },
        "scrolled": true,
        "id": "g2eDWcs-GXUU"
      },
      "source": [
        "plt.scatter(cdf.ENGINESIZE, cdf.CO2EMISSIONS,  color='blue')\n",
        "plt.xlabel(\"Engine size\")\n",
        "plt.ylabel(\"Emission\")\n",
        "plt.show()"
      ],
      "execution_count": null,
      "outputs": []
    },
    {
      "cell_type": "code",
      "metadata": {
        "id": "pRHixp2uuTJ-"
      },
      "source": [
        "plt.scatter(cdf.CYLINDERS, cdf.CO2EMISSIONS,  color='blue')\n",
        "plt.xlabel(\"Cylinders\")\n",
        "plt.ylabel(\"Emission\")\n",
        "plt.show()"
      ],
      "execution_count": null,
      "outputs": []
    },
    {
      "cell_type": "markdown",
      "metadata": {
        "button": false,
        "deletable": true,
        "new_sheet": false,
        "run_control": {
          "read_only": false
        },
        "id": "zWMnFI1KGXUl"
      },
      "source": [
        "#### Pembuatan dataset pelatihan dan pengujian\n",
        "Pemisahan data latih/uji melibatkan pemisahan dataset menjadi dataset pelatihan dan pengujian, yang saling eksklusif. Setelah itu, dataset pelatihan dapat digunakan untuk membuat model dan dataset pengujian untuk pengujian.\n",
        "Hal ini akan memberikan evaluasi yang lebih akurat pada akurasi out-of-sample karena dataset pengujian bukan merupakan bagian dari dataset yang telah digunakan untuk melatih data. Ini lebih realistis untuk masalah dunia nyata.\n",
        "\n",
        "Ini berarti bahwa hasil dari setiap titik data dalam kumpulan data ini diketahui, sehingga sangat bagus untuk data pengujian. Dataset pengujian belum digunakan untuk melatih model, sehingga model tidak memiliki pengetahuan tentang hasil dari data ini, sehingga dapat disebut pengujian di luar sampel.\n",
        "\n"
      ]
    },
    {
      "cell_type": "code",
      "metadata": {
        "id": "bpTHEJWywjdp"
      },
      "source": [
        "# Mengambil \"Engine Size\" sebagai variabel independen (regressor)\n",
        "X = cdf.iloc[:, 0].values\n",
        "# Mengambil \"Emission\" sebagai variabel dependen\n",
        "y = cdf.iloc[:, 3].values\n",
        "# Reshape data karena hanya menggunakan satu fitur \"Engine Size\"\n",
        "X = X.reshape(-1,1)\n",
        "# Reshape data karena hanya satu fitur\n",
        "y = y.reshape(-1,1)"
      ],
      "execution_count": null,
      "outputs": []
    },
    {
      "cell_type": "markdown",
      "metadata": {
        "id": "xwVVPHJYyOOw"
      },
      "source": [
        "Proses splitting dataset pelatihan dan pengujian"
      ]
    },
    {
      "cell_type": "code",
      "metadata": {
        "id": "0zUyJzHlxNgd"
      },
      "source": [
        "# Splitting the dataset into the Training set and Test set\n",
        "from sklearn.model_selection import train_test_split\n",
        "X_train, X_test, y_train, y_test = train_test_split(X, y, test_size = 0.2, random_state = 0)"
      ],
      "execution_count": null,
      "outputs": []
    },
    {
      "cell_type": "markdown",
      "metadata": {
        "id": "eOV1onCWyXWq"
      },
      "source": [
        "Normalisasi atau scaling dataset"
      ]
    },
    {
      "cell_type": "code",
      "metadata": {
        "id": "0xblBvgryaD8"
      },
      "source": [
        "# Feature Scaling\n",
        "from sklearn.preprocessing import StandardScaler\n",
        "sc_X = StandardScaler()\n",
        "sc_y = StandardScaler()\n",
        "X = sc_X.fit_transform(X)\n",
        "y = sc_y.fit_transform(y)"
      ],
      "execution_count": null,
      "outputs": []
    },
    {
      "cell_type": "markdown",
      "metadata": {
        "id": "4g2GUsATzirU"
      },
      "source": [
        "Pembuatan Model"
      ]
    },
    {
      "cell_type": "code",
      "metadata": {
        "id": "oWDaHmzPzkCY"
      },
      "source": [
        "# Fitting SVR to the dataset\n",
        "from sklearn.svm import SVR\n",
        "regressor = SVR(kernel = 'linear')\n",
        "#linear = Linear Kernel\n",
        "regressor.fit(X, y)"
      ],
      "execution_count": null,
      "outputs": []
    },
    {
      "cell_type": "markdown",
      "metadata": {
        "id": "NHjqiT4I0B_M"
      },
      "source": [
        "Prediksi nilai baru dengan model yang telah dibentuk"
      ]
    },
    {
      "cell_type": "code",
      "metadata": {
        "id": "sIk0hYhj0GXc"
      },
      "source": [
        "# Predicting a new result\n",
        "\n",
        "y_pred = regressor.predict(sc_X.transform(np.array([[5.4]])))\n",
        "#To transform 5.4 to the scaled X value, we first need to convert it into the array form\n",
        "#Since the transform method of StandardScaler Library only accepts arrays\n",
        "\n",
        "y_pred = sc_y.inverse_transform(y_pred)\n",
        "#Now the prediction gives us the scaled value of y\n",
        "#Thus we need inverse transformation of the scaled value for the real results\n",
        "\n",
        "print(y_pred)"
      ],
      "execution_count": null,
      "outputs": []
    },
    {
      "cell_type": "markdown",
      "metadata": {
        "id": "2QjOht0n0rG_"
      },
      "source": [
        "Visualisasi Hasil (masih dalam nilai yang discaling):"
      ]
    },
    {
      "cell_type": "code",
      "metadata": {
        "id": "AP5vCZLu0smb"
      },
      "source": [
        "# Visualising the SVR results\n",
        "plt.scatter(X, y, color = 'blue')\n",
        "plt.plot(X, regressor.predict(X), color = 'red')\n",
        "plt.title('Emission Dataset')\n",
        "plt.xlabel('Engine Size')\n",
        "plt.ylabel('Emission')\n",
        "plt.show()"
      ],
      "execution_count": null,
      "outputs": []
    },
    {
      "cell_type": "markdown",
      "metadata": {
        "id": "67PlpYud6zc9"
      },
      "source": [
        "Visualisasi Hasil dalam nilai asalnya:"
      ]
    },
    {
      "cell_type": "code",
      "metadata": {
        "id": "nb1764wl55vd"
      },
      "source": [
        "# Visualising the SVR results\n",
        "plt.scatter(sc_X.inverse_transform(X), sc_y.inverse_transform(y), color = 'blue')\n",
        "plt.plot(sc_X.inverse_transform(X), sc_y.inverse_transform(regressor.predict(X)), color = 'red')\n",
        "plt.title('Emission Dataset')\n",
        "plt.xlabel('Engine Size')\n",
        "plt.ylabel('Emission')\n",
        "plt.show()"
      ],
      "execution_count": null,
      "outputs": []
    },
    {
      "cell_type": "markdown",
      "metadata": {
        "id": "OgJaOFi7QUH7"
      },
      "source": [
        "#### Evaluasi\n",
        "Nilai aktual dan nilai prediksi dapat dibandingkan untuk menghitung akurasi dari model regresi. Metrik evaluasi sangat penting untuk pengembangan model karena memberikan pengetahuan untuk perbaikan model.\n",
        "\n",
        "Ada berbagai metrik untuk evaluasi model, misalnya MSE sebagai error untuk mengetahui akurasi dari model yang dibangun yang dihitung dari MSE model terhadap data pengujian: \n",
        "    - Mean Absolute Error (MAE): Rerata dari nilai absolut dari error. MAE adalah metrik paling mudah dipahami karena hanya rata-rata dari error.\n",
        "    - Mean Squared Error (MSE): adalah rerata dari error dikuadratkan. MSE lebih populer dibanding MAE karena fokus pada error yang besar karena dikuadratkan sehingga berdampak lebih besar terhadap error yang lebih besar dibandingkan error yang lebih kecil.\n",
        "    - Root Mean Squared Error (RMSE).\n",
        "    - R-squared bukan error namun metrik yang populer yang merepresentasikan sejauh mana data cocok dengan garis regresi yang didapatkan. Semakin besar R-squared akan semaki baik pencocokan garis terhadap data. Nilai terbaik adalah 1.0 dan dapat bernilai negatif.\n"
      ]
    },
    {
      "cell_type": "code",
      "metadata": {
        "id": "che3J7vEQX2H"
      },
      "source": [
        "from sklearn.metrics import r2_score\n",
        "\n",
        "test_x = np.asanyarray(cdf[['ENGINESIZE']])\n",
        "test_y = np.asanyarray(cdf[['CO2EMISSIONS']])\n",
        "test_y_ = sc_y.inverse_transform(regressor.predict(sc_X.transform(test_x)))\n",
        "\n",
        "print(\"Mean absolute error: %.2f\" % np.mean(np.absolute(test_y_ - test_y)))\n",
        "print(\"Residual sum of squares (MSE): %.2f\" % np.mean((test_y_ - test_y) ** 2))\n",
        "print(\"R2-score: %.2f\" % r2_score(test_y_ , test_y) )"
      ],
      "execution_count": null,
      "outputs": []
    }
  ]
}