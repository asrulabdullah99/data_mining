{
  "nbformat": 4,
  "nbformat_minor": 0,
  "metadata": {
    "colab": {
      "name": "Regresi Nonlinear.ipynb",
      "provenance": [],
      "collapsed_sections": []
    },
    "kernelspec": {
      "display_name": "Python 3",
      "language": "python",
      "name": "python3"
    }
  },
  "cells": [
    {
      "cell_type": "markdown",
      "metadata": {
        "id": "jgmfr9NyLvjg"
      },
      "source": [
        "\n",
        "# <center>Regresi Nonlinear </center>"
      ]
    },
    {
      "cell_type": "markdown",
      "metadata": {
        "id": "YY5azW0uLvjj"
      },
      "source": [
        "\n",
        "Jika data menunjukkan tren yang berbentuk kurva, maka regresi linier tidak akan memberikan hasil yang sangat akurat jika dibandingkan dengan regresi non-linier karena sesuai dengan namanya, regresi linier mengandaikan bahwa data tersebut linier. Contoh berikut membahas tentang regresi non linier dan menerapkannya dalam python. Dalam notebook ini, akan dibuat model non-linier terhadap titik data yang sesuai dengan PDB China dari tahun 1960 hingga 2014."
      ]
    },
    {
      "cell_type": "markdown",
      "metadata": {
        "id": "3iwiA_TqLvjm"
      },
      "source": [
        "### Mengimpor libraries yang diperlukan"
      ]
    },
    {
      "cell_type": "code",
      "metadata": {
        "id": "QrDBVwhsLvjo"
      },
      "source": [
        "import numpy as np\n",
        "import matplotlib.pyplot as plt\n",
        "%matplotlib inline"
      ],
      "execution_count": null,
      "outputs": []
    },
    {
      "cell_type": "markdown",
      "metadata": {
        "id": "oHIvwQPcLvju"
      },
      "source": [
        "Meskipun regresi linier sangat baik untuk menyelesaikan banyak masalah, namun tidak dapat digunakan untuk semua jenis dataset. Pertama, perlu diingat kembali bagaimana regresi linier dapat memodelkan kumpulan data. Regresi linier memodelkan hubungan linier antara variabel dependen y dan variabel independen x. Regresi linier memiliki persamaan sederhana, sebagai contoh derajat 1, misalnya y = 2*(x) + 3."
      ]
    },
    {
      "cell_type": "code",
      "metadata": {
        "id": "8364jXkcLvjv"
      },
      "source": [
        "x = np.arange(-5.0, 5.0, 0.1)\n",
        "\n",
        "##You can adjust the slope and intercept to verify the changes in the graph\n",
        "y = 2*(x) + 3\n",
        "y_noise = 2 * np.random.normal(size=x.size)\n",
        "ydata = y + y_noise\n",
        "#plt.figure(figsize=(8,6))\n",
        "plt.plot(x, ydata,  'bo')\n",
        "plt.plot(x,y, 'r') \n",
        "plt.ylabel('Dependent Variable')\n",
        "plt.xlabel('Indepdendent Variable')\n",
        "plt.show()"
      ],
      "execution_count": null,
      "outputs": []
    },
    {
      "cell_type": "markdown",
      "metadata": {
        "id": "RZbFwyG9Lvjy"
      },
      "source": [
        "\n",
        "Regresi nonlinier adalah hubungan antara variabel bebas $x$ dan variabel terikat $y$ yang menghasilkan fungsi nonlinier sebagai model dari data. Pada dasarnya setiap hubungan yang tidak linier dapat disebut sebagai non-linier, dan biasanya diwakili oleh polinomial derajat $k$ (pangkat maksimum $x$).\n",
        "\n",
        "$$ \\ y = a x^3 + b x^2 + c x + d \\ $$\n",
        "\n",
        "Fungsi non-linier dapat memiliki elemen seperti eksponensial, logaritma, pecahan, dan lain-lain. Contoh: $$ y = \\log(x)$$\n",
        "    \n",
        "Atau bahkan lebih rumit seperti :\n",
        "$$ y = \\log(a x^3 + b x^2 + c x + d)$$"
      ]
    },
    {
      "cell_type": "markdown",
      "metadata": {
        "id": "cJJS5W-6Lvjz"
      },
      "source": [
        "Mari kita lihat grafik fungsi kubik."
      ]
    },
    {
      "cell_type": "code",
      "metadata": {
        "id": "4dQmSh2GLvj0"
      },
      "source": [
        "x = np.arange(-5.0, 5.0, 0.1)\n",
        "\n",
        "##You can adjust the slope and intercept to verify the changes in the graph\n",
        "y = 1*(x**3) + 1*(x**2) + 1*x + 3\n",
        "y_noise = 20 * np.random.normal(size=x.size)\n",
        "ydata = y + y_noise\n",
        "plt.plot(x, ydata,  'bo')\n",
        "plt.plot(x,y, 'r') \n",
        "plt.ylabel('Dependent Variable')\n",
        "plt.xlabel('Indepdendent Variable')\n",
        "plt.show()"
      ],
      "execution_count": null,
      "outputs": []
    },
    {
      "cell_type": "markdown",
      "metadata": {
        "id": "dTsz57uuLvj3"
      },
      "source": [
        "Seperti yang Anda lihat, fungsi ini memiliki $x^3$ dan $x^2$ sebagai variabel independen. Selain itu, grafik fungsi ini bukan garis lurus di atas bidang 2D. Jadi ini adalah fungsi non-linier."
      ]
    },
    {
      "cell_type": "markdown",
      "metadata": {
        "id": "RWsXjnB3Lvj4"
      },
      "source": [
        "Beberapa jenis fungsi non-linier lainnya adalah:"
      ]
    },
    {
      "cell_type": "markdown",
      "metadata": {
        "id": "_oq_b8oaLvj5"
      },
      "source": [
        "### Kuadratik"
      ]
    },
    {
      "cell_type": "markdown",
      "metadata": {
        "id": "jqlCVY8_Lvj6"
      },
      "source": [
        "$$ Y = X^2 $$"
      ]
    },
    {
      "cell_type": "code",
      "metadata": {
        "id": "ttEciJaXLvj8"
      },
      "source": [
        "x = np.arange(-5.0, 5.0, 0.1)\n",
        "\n",
        "##You can adjust the slope and intercept to verify the changes in the graph\n",
        "\n",
        "y = np.power(x,2)\n",
        "y_noise = 2 * np.random.normal(size=x.size)\n",
        "ydata = y + y_noise\n",
        "plt.plot(x, ydata,  'bo')\n",
        "plt.plot(x,y, 'r') \n",
        "plt.ylabel('Dependent Variable')\n",
        "plt.xlabel('Indepdendent Variable')\n",
        "plt.show()"
      ],
      "execution_count": null,
      "outputs": []
    },
    {
      "cell_type": "markdown",
      "metadata": {
        "id": "VoK89v4ZLvj-"
      },
      "source": [
        "### Eksponensial"
      ]
    },
    {
      "cell_type": "markdown",
      "metadata": {
        "id": "-67y4cNbLvj_"
      },
      "source": [
        "Fungsi eksponensial dengan basis c didefinisikan oleh $$ Y = a + b c^X$$ di mana b 0, c > 0 , c 1, dan x adalah bilangan real apa pun. Basis, c, adalah konstan dan eksponen, x, adalah variabel.\n"
      ]
    },
    {
      "cell_type": "code",
      "metadata": {
        "id": "0pNwLZhdLvkB"
      },
      "source": [
        "X = np.arange(-5.0, 5.0, 0.1)\n",
        "\n",
        "##You can adjust the slope and intercept to verify the changes in the graph\n",
        "\n",
        "Y= np.exp(X)\n",
        "\n",
        "plt.plot(X,Y) \n",
        "plt.ylabel('Dependent Variable')\n",
        "plt.xlabel('Indepdendent Variable')\n",
        "plt.show()"
      ],
      "execution_count": null,
      "outputs": []
    },
    {
      "cell_type": "markdown",
      "metadata": {
        "id": "PEN7kuU8LvkD"
      },
      "source": [
        "### Logaritmik\n",
        "\n",
        "Respon $y$ adalah hasil penerapan peta logaritmik dari input $x$ ke variabel output $y$. Berikut adalah salah satu bentuk paling sederhana dari __log()__: yaitu $$ y = \\log(x)$$\n",
        "\n",
        "Perlu dipertimbangkan bahwa alih-alih $x$, kita dapat menggunakan $X$, yang dapat berupa representasi polinomial dari $x$. Dalam bentuk umum itu akan ditulis sebagai\n",
        "\\begin{equation}\n",
        "y = \\log(X)\n",
        "\\end{equation}"
      ]
    },
    {
      "cell_type": "code",
      "metadata": {
        "id": "6riBQXGLLvkF"
      },
      "source": [
        "X = np.arange(-5.0, 5.0, 0.1)\n",
        "\n",
        "Y = np.log(X)\n",
        "\n",
        "plt.plot(X,Y) \n",
        "plt.ylabel('Dependent Variable')\n",
        "plt.xlabel('Indepdendent Variable')\n",
        "plt.show()"
      ],
      "execution_count": null,
      "outputs": []
    },
    {
      "cell_type": "markdown",
      "metadata": {
        "id": "N47ilThzLvkK"
      },
      "source": [
        "### Sigmoid/logistik"
      ]
    },
    {
      "cell_type": "markdown",
      "metadata": {
        "id": "69DB69UdLvkN"
      },
      "source": [
        "$$ Y = a + \\frac{b}{1+ c^{(X-d)}}$$"
      ]
    },
    {
      "cell_type": "code",
      "metadata": {
        "id": "-fFJdKP_LvkO"
      },
      "source": [
        "X = np.arange(-5.0, 5.0, 0.1)\n",
        "\n",
        "\n",
        "Y = 1-4/(1+np.power(3, X-2))\n",
        "\n",
        "plt.plot(X,Y) \n",
        "plt.ylabel('Dependent Variable')\n",
        "plt.xlabel('Indepdendent Variable')\n",
        "plt.show()"
      ],
      "execution_count": null,
      "outputs": []
    },
    {
      "cell_type": "markdown",
      "metadata": {
        "id": "1XnqbTEtLvkR"
      },
      "source": [
        "<a id=\"ref2\"></a>\n",
        "# Contoh Regresi Non Linier"
      ]
    },
    {
      "cell_type": "markdown",
      "metadata": {
        "id": "hQzsLh9oLvkU"
      },
      "source": [
        "Sebagai contoh, kita akan mencoba dan menyesuaikan model non-linier ke titik data yang sesuai dengan PDB Tiongkok dari tahun 1960 hingga 2014. Kita mengunduh kumpulan data dengan dua kolom, yang pertama, satu tahun antara 1960 dan 2014, yang kedua, Pendapatan domestik bruto tahunan China yang sesuai dalam dolar AS untuk tahun itu."
      ]
    },
    {
      "cell_type": "code",
      "metadata": {
        "id": "oDhH58B8LvkV"
      },
      "source": [
        "import numpy as np\n",
        "import pandas as pd\n",
        "\n",
        "#downloading dataset\n",
        "!wget -nv -O china_gdp.csv https://s3-api.us-geo.objectstorage.softlayer.net/cf-courses-data/CognitiveClass/ML0101ENv3/labs/china_gdp.csv\n",
        "    \n",
        "df = pd.read_csv(\"china_gdp.csv\")\n",
        "df.head(10)"
      ],
      "execution_count": null,
      "outputs": []
    },
    {
      "cell_type": "markdown",
      "metadata": {
        "id": "LiQ1ZjTcLvkc"
      },
      "source": [
        "### Memplot dataset ###\n",
        "Berikut adalah apa yang terlihat seperti titik-titik data. Hasil plotting terlihat seperti fungsi logistik atau eksponensial. Pertumbuhannya mulai lambat, kemudian dari tahun 2005 ke depan, pertumbuhannya sangat signifikan. Dan akhirnya, sedikit melambat di tahun 2010-an."
      ]
    },
    {
      "cell_type": "code",
      "metadata": {
        "id": "docvbMOiLvke"
      },
      "source": [
        "plt.figure(figsize=(8,5))\n",
        "x_data, y_data = (df[\"Year\"].values, df[\"Value\"].values)\n",
        "plt.plot(x_data, y_data, 'ro')\n",
        "plt.ylabel('GDP')\n",
        "plt.xlabel('Year')\n",
        "plt.show()"
      ],
      "execution_count": null,
      "outputs": []
    },
    {
      "cell_type": "markdown",
      "metadata": {
        "id": "BdO8YgxILvkg"
      },
      "source": [
        "### Pemilihan Model ###\n",
        "\n",
        "Dari tampilan awal plot, kita dapat menentukan bahwa fungsi logistik bisa menjadi pendekatan yang baik,\n",
        "karena memiliki sifat mulai dengan pertumbuhan lambat, pertumbuhan meningkat di tengah, dan kemudian menurun lagi di akhir; seperti diilustrasikan di bawah ini:"
      ]
    },
    {
      "cell_type": "code",
      "metadata": {
        "id": "aCJtHT5dLvkh"
      },
      "source": [
        "X = np.arange(-5.0, 5.0, 0.1)\n",
        "Y = 1.0 / (1.0 + np.exp(-X))\n",
        "\n",
        "plt.plot(X,Y) \n",
        "plt.ylabel('Dependent Variable')\n",
        "plt.xlabel('Indepdendent Variable')\n",
        "plt.show()"
      ],
      "execution_count": null,
      "outputs": []
    },
    {
      "cell_type": "markdown",
      "metadata": {
        "id": "12IXRjwFLvkk"
      },
      "source": [
        "\n",
        "Rumus untuk fungsi logistik adalah sebagai berikut:\n",
        "\n",
        "$$ \\hat{Y} = \\frac1{1+e^{\\beta_1(X-\\beta_2)}}$$\n",
        "\n",
        "$\\beta_1$: Mengontrol kecuraman kurva,\n",
        "\n",
        "$\\beta_2$: Menggeser kurva pada sumbu x."
      ]
    },
    {
      "cell_type": "markdown",
      "metadata": {
        "id": "jreEgYzmLvkm"
      },
      "source": [
        "### Pembuatan Model ###\n",
        "Model regresi dan inisialisasi parameternya dapat dibuat."
      ]
    },
    {
      "cell_type": "code",
      "metadata": {
        "id": "xYh5M8evLvkm"
      },
      "source": [
        "def sigmoid(x, Beta_1, Beta_2):\n",
        "     y = 1 / (1 + np.exp(-Beta_1*(x-Beta_2)))\n",
        "     return y"
      ],
      "execution_count": null,
      "outputs": []
    },
    {
      "cell_type": "markdown",
      "metadata": {
        "id": "wIVf-VIvLvkq"
      },
      "source": [
        "Contoh garis sigmoid yang mungkin cocok dengan data dapat dilihat:"
      ]
    },
    {
      "cell_type": "code",
      "metadata": {
        "id": "IFMrb86MLvkr"
      },
      "source": [
        "beta_1 = 0.10\n",
        "beta_2 = 1990.0\n",
        "\n",
        "#logistic function\n",
        "Y_pred = sigmoid(x_data, beta_1 , beta_2)\n",
        "\n",
        "#plot initial prediction against datapoints\n",
        "plt.plot(x_data, Y_pred*15000000000000.)\n",
        "plt.plot(x_data, y_data, 'ro')"
      ],
      "execution_count": null,
      "outputs": []
    },
    {
      "cell_type": "markdown",
      "metadata": {
        "id": "dOFGvvxELvku"
      },
      "source": [
        "Tugas yang harus dilakukan adalah menemukan parameter terbaik untuk model. Normalisasi x dan y diperlukan:"
      ]
    },
    {
      "cell_type": "code",
      "metadata": {
        "id": "elXbplcnLvkv"
      },
      "source": [
        "# Lets normalize our data\n",
        "xdata =x_data/max(x_data)\n",
        "ydata =y_data/max(y_data)"
      ],
      "execution_count": null,
      "outputs": []
    },
    {
      "cell_type": "markdown",
      "metadata": {
        "id": "_TgMh3aKLvkx"
      },
      "source": [
        "#### Bagaimana menemukan parameter terbaik untuk pencocokan kurva?\n",
        "\n",
        "\n",
        "__curve_fit__ yang menggunakan least square non-linear agar sesuai dengan fungsi sigmoid, terhadap data dapat digunakan. Nilai optimal untuk parameter sehingga jumlah residu kuadrat dari sigmoid(xdata, *popt) - ydata diminimalkan.\n",
        "\n",
        "popt adalah parameter yang dioptimalkan."
      ]
    },
    {
      "cell_type": "code",
      "metadata": {
        "id": "eztuhwjELvkz"
      },
      "source": [
        "from scipy.optimize import curve_fit\n",
        "popt, pcov = curve_fit(sigmoid, xdata, ydata)\n",
        "#print the final parameters\n",
        "print(\" beta_1 = %f, beta_2 = %f\" % (popt[0], popt[1]))"
      ],
      "execution_count": null,
      "outputs": []
    },
    {
      "cell_type": "markdown",
      "metadata": {
        "id": "sAmsc13iLvk1"
      },
      "source": [
        "Hasil model regressi dapat diplot:"
      ]
    },
    {
      "cell_type": "code",
      "metadata": {
        "id": "kK1T5F4jLvk2"
      },
      "source": [
        "x = np.linspace(1960, 2015, 55)\n",
        "x = x/max(x)\n",
        "plt.figure(figsize=(8,5))\n",
        "y = sigmoid(x, *popt)\n",
        "plt.plot(xdata, ydata, 'ro', label='data')\n",
        "plt.plot(x,y, linewidth=3.0, label='fit')\n",
        "plt.legend(loc='best')\n",
        "plt.ylabel('GDP')\n",
        "plt.xlabel('Year')\n",
        "plt.show()"
      ],
      "execution_count": null,
      "outputs": []
    },
    {
      "cell_type": "markdown",
      "metadata": {
        "id": "IGW0IZBbLvk4"
      },
      "source": [
        "## Latihan\n",
        "Hitung akurasi dari model!"
      ]
    },
    {
      "cell_type": "code",
      "metadata": {
        "id": "bf8jO9J4Lvk5"
      },
      "source": [
        "# write your code here\n",
        " "
      ],
      "execution_count": null,
      "outputs": []
    },
    {
      "cell_type": "markdown",
      "metadata": {
        "id": "rVKukOnJLvk8"
      },
      "source": [
        "Double-click __here__ for the solution.\n",
        "\n",
        "<!-- Your answer is below:\n",
        "    \n",
        "# split data into train/test\n",
        "msk = np.random.rand(len(df)) < 0.8\n",
        "train_x = xdata[msk]\n",
        "test_x = xdata[~msk]\n",
        "train_y = ydata[msk]\n",
        "test_y = ydata[~msk]\n",
        "\n",
        "# build the model using train set\n",
        "popt, pcov = curve_fit(sigmoid, train_x, train_y)\n",
        "\n",
        "# predict using test set\n",
        "y_hat = sigmoid(test_x, *popt)\n",
        "\n",
        "# evaluation\n",
        "print(\"Mean absolute error: %.2f\" % np.mean(np.absolute(y_hat - test_y)))\n",
        "print(\"Residual sum of squares (MSE): %.2f\" % np.mean((y_hat - test_y) ** 2))\n",
        "from sklearn.metrics import r2_score\n",
        "print(\"R2-score: %.2f\" % r2_score(y_hat , test_y) )\n",
        "\n",
        "-->"
      ]
    }
  ]
}