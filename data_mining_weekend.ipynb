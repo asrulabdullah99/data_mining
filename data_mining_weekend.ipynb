{
  "nbformat": 4,
  "nbformat_minor": 0,
  "metadata": {
    "colab": {
      "name": "data_mining_weekend.ipynb",
      "provenance": []
    },
    "kernelspec": {
      "name": "python3",
      "display_name": "Python 3"
    },
    "language_info": {
      "name": "python"
    }
  },
  "cells": [
    {
      "cell_type": "code",
      "metadata": {
        "colab": {
          "base_uri": "https://localhost:8080/"
        },
        "id": "b9ETp6To5aPZ",
        "outputId": "4e51fe04-4b3d-4fc4-9ff1-98586e6f3034"
      },
      "source": [
        "#linear regression  y = a + bx\n",
        "\n",
        "import numpy as np\n",
        "import matplotlib.pyplot as plt\n",
        "\n",
        "x = np.linspace(1,1000, num=500)\n",
        "x\n"
      ],
      "execution_count": 1,
      "outputs": [
        {
          "output_type": "execute_result",
          "data": {
            "text/plain": [
              "array([   1.        ,    3.00200401,    5.00400802,    7.00601202,\n",
              "          9.00801603,   11.01002004,   13.01202405,   15.01402806,\n",
              "         17.01603206,   19.01803607,   21.02004008,   23.02204409,\n",
              "         25.0240481 ,   27.0260521 ,   29.02805611,   31.03006012,\n",
              "         33.03206413,   35.03406814,   37.03607214,   39.03807615,\n",
              "         41.04008016,   43.04208417,   45.04408818,   47.04609218,\n",
              "         49.04809619,   51.0501002 ,   53.05210421,   55.05410822,\n",
              "         57.05611222,   59.05811623,   61.06012024,   63.06212425,\n",
              "         65.06412826,   67.06613226,   69.06813627,   71.07014028,\n",
              "         73.07214429,   75.0741483 ,   77.0761523 ,   79.07815631,\n",
              "         81.08016032,   83.08216433,   85.08416834,   87.08617234,\n",
              "         89.08817635,   91.09018036,   93.09218437,   95.09418838,\n",
              "         97.09619238,   99.09819639,  101.1002004 ,  103.10220441,\n",
              "        105.10420842,  107.10621242,  109.10821643,  111.11022044,\n",
              "        113.11222445,  115.11422846,  117.11623246,  119.11823647,\n",
              "        121.12024048,  123.12224449,  125.1242485 ,  127.12625251,\n",
              "        129.12825651,  131.13026052,  133.13226453,  135.13426854,\n",
              "        137.13627255,  139.13827655,  141.14028056,  143.14228457,\n",
              "        145.14428858,  147.14629259,  149.14829659,  151.1503006 ,\n",
              "        153.15230461,  155.15430862,  157.15631263,  159.15831663,\n",
              "        161.16032064,  163.16232465,  165.16432866,  167.16633267,\n",
              "        169.16833667,  171.17034068,  173.17234469,  175.1743487 ,\n",
              "        177.17635271,  179.17835671,  181.18036072,  183.18236473,\n",
              "        185.18436874,  187.18637275,  189.18837675,  191.19038076,\n",
              "        193.19238477,  195.19438878,  197.19639279,  199.19839679,\n",
              "        201.2004008 ,  203.20240481,  205.20440882,  207.20641283,\n",
              "        209.20841683,  211.21042084,  213.21242485,  215.21442886,\n",
              "        217.21643287,  219.21843687,  221.22044088,  223.22244489,\n",
              "        225.2244489 ,  227.22645291,  229.22845691,  231.23046092,\n",
              "        233.23246493,  235.23446894,  237.23647295,  239.23847695,\n",
              "        241.24048096,  243.24248497,  245.24448898,  247.24649299,\n",
              "        249.24849699,  251.250501  ,  253.25250501,  255.25450902,\n",
              "        257.25651303,  259.25851703,  261.26052104,  263.26252505,\n",
              "        265.26452906,  267.26653307,  269.26853707,  271.27054108,\n",
              "        273.27254509,  275.2745491 ,  277.27655311,  279.27855711,\n",
              "        281.28056112,  283.28256513,  285.28456914,  287.28657315,\n",
              "        289.28857715,  291.29058116,  293.29258517,  295.29458918,\n",
              "        297.29659319,  299.29859719,  301.3006012 ,  303.30260521,\n",
              "        305.30460922,  307.30661323,  309.30861723,  311.31062124,\n",
              "        313.31262525,  315.31462926,  317.31663327,  319.31863727,\n",
              "        321.32064128,  323.32264529,  325.3246493 ,  327.32665331,\n",
              "        329.32865731,  331.33066132,  333.33266533,  335.33466934,\n",
              "        337.33667335,  339.33867735,  341.34068136,  343.34268537,\n",
              "        345.34468938,  347.34669339,  349.34869739,  351.3507014 ,\n",
              "        353.35270541,  355.35470942,  357.35671343,  359.35871743,\n",
              "        361.36072144,  363.36272545,  365.36472946,  367.36673347,\n",
              "        369.36873747,  371.37074148,  373.37274549,  375.3747495 ,\n",
              "        377.37675351,  379.37875752,  381.38076152,  383.38276553,\n",
              "        385.38476954,  387.38677355,  389.38877756,  391.39078156,\n",
              "        393.39278557,  395.39478958,  397.39679359,  399.3987976 ,\n",
              "        401.4008016 ,  403.40280561,  405.40480962,  407.40681363,\n",
              "        409.40881764,  411.41082164,  413.41282565,  415.41482966,\n",
              "        417.41683367,  419.41883768,  421.42084168,  423.42284569,\n",
              "        425.4248497 ,  427.42685371,  429.42885772,  431.43086172,\n",
              "        433.43286573,  435.43486974,  437.43687375,  439.43887776,\n",
              "        441.44088176,  443.44288577,  445.44488978,  447.44689379,\n",
              "        449.4488978 ,  451.4509018 ,  453.45290581,  455.45490982,\n",
              "        457.45691383,  459.45891784,  461.46092184,  463.46292585,\n",
              "        465.46492986,  467.46693387,  469.46893788,  471.47094188,\n",
              "        473.47294589,  475.4749499 ,  477.47695391,  479.47895792,\n",
              "        481.48096192,  483.48296593,  485.48496994,  487.48697395,\n",
              "        489.48897796,  491.49098196,  493.49298597,  495.49498998,\n",
              "        497.49699399,  499.498998  ,  501.501002  ,  503.50300601,\n",
              "        505.50501002,  507.50701403,  509.50901804,  511.51102204,\n",
              "        513.51302605,  515.51503006,  517.51703407,  519.51903808,\n",
              "        521.52104208,  523.52304609,  525.5250501 ,  527.52705411,\n",
              "        529.52905812,  531.53106212,  533.53306613,  535.53507014,\n",
              "        537.53707415,  539.53907816,  541.54108216,  543.54308617,\n",
              "        545.54509018,  547.54709419,  549.5490982 ,  551.5511022 ,\n",
              "        553.55310621,  555.55511022,  557.55711423,  559.55911824,\n",
              "        561.56112224,  563.56312625,  565.56513026,  567.56713427,\n",
              "        569.56913828,  571.57114228,  573.57314629,  575.5751503 ,\n",
              "        577.57715431,  579.57915832,  581.58116232,  583.58316633,\n",
              "        585.58517034,  587.58717435,  589.58917836,  591.59118236,\n",
              "        593.59318637,  595.59519038,  597.59719439,  599.5991984 ,\n",
              "        601.6012024 ,  603.60320641,  605.60521042,  607.60721443,\n",
              "        609.60921844,  611.61122244,  613.61322645,  615.61523046,\n",
              "        617.61723447,  619.61923848,  621.62124248,  623.62324649,\n",
              "        625.6252505 ,  627.62725451,  629.62925852,  631.63126253,\n",
              "        633.63326653,  635.63527054,  637.63727455,  639.63927856,\n",
              "        641.64128257,  643.64328657,  645.64529058,  647.64729459,\n",
              "        649.6492986 ,  651.65130261,  653.65330661,  655.65531062,\n",
              "        657.65731463,  659.65931864,  661.66132265,  663.66332665,\n",
              "        665.66533066,  667.66733467,  669.66933868,  671.67134269,\n",
              "        673.67334669,  675.6753507 ,  677.67735471,  679.67935872,\n",
              "        681.68136273,  683.68336673,  685.68537074,  687.68737475,\n",
              "        689.68937876,  691.69138277,  693.69338677,  695.69539078,\n",
              "        697.69739479,  699.6993988 ,  701.70140281,  703.70340681,\n",
              "        705.70541082,  707.70741483,  709.70941884,  711.71142285,\n",
              "        713.71342685,  715.71543086,  717.71743487,  719.71943888,\n",
              "        721.72144289,  723.72344689,  725.7254509 ,  727.72745491,\n",
              "        729.72945892,  731.73146293,  733.73346693,  735.73547094,\n",
              "        737.73747495,  739.73947896,  741.74148297,  743.74348697,\n",
              "        745.74549098,  747.74749499,  749.749499  ,  751.75150301,\n",
              "        753.75350701,  755.75551102,  757.75751503,  759.75951904,\n",
              "        761.76152305,  763.76352705,  765.76553106,  767.76753507,\n",
              "        769.76953908,  771.77154309,  773.77354709,  775.7755511 ,\n",
              "        777.77755511,  779.77955912,  781.78156313,  783.78356713,\n",
              "        785.78557114,  787.78757515,  789.78957916,  791.79158317,\n",
              "        793.79358717,  795.79559118,  797.79759519,  799.7995992 ,\n",
              "        801.80160321,  803.80360721,  805.80561122,  807.80761523,\n",
              "        809.80961924,  811.81162325,  813.81362725,  815.81563126,\n",
              "        817.81763527,  819.81963928,  821.82164329,  823.82364729,\n",
              "        825.8256513 ,  827.82765531,  829.82965932,  831.83166333,\n",
              "        833.83366733,  835.83567134,  837.83767535,  839.83967936,\n",
              "        841.84168337,  843.84368737,  845.84569138,  847.84769539,\n",
              "        849.8496994 ,  851.85170341,  853.85370741,  855.85571142,\n",
              "        857.85771543,  859.85971944,  861.86172345,  863.86372745,\n",
              "        865.86573146,  867.86773547,  869.86973948,  871.87174349,\n",
              "        873.87374749,  875.8757515 ,  877.87775551,  879.87975952,\n",
              "        881.88176353,  883.88376754,  885.88577154,  887.88777555,\n",
              "        889.88977956,  891.89178357,  893.89378758,  895.89579158,\n",
              "        897.89779559,  899.8997996 ,  901.90180361,  903.90380762,\n",
              "        905.90581162,  907.90781563,  909.90981964,  911.91182365,\n",
              "        913.91382766,  915.91583166,  917.91783567,  919.91983968,\n",
              "        921.92184369,  923.9238477 ,  925.9258517 ,  927.92785571,\n",
              "        929.92985972,  931.93186373,  933.93386774,  935.93587174,\n",
              "        937.93787575,  939.93987976,  941.94188377,  943.94388778,\n",
              "        945.94589178,  947.94789579,  949.9498998 ,  951.95190381,\n",
              "        953.95390782,  955.95591182,  957.95791583,  959.95991984,\n",
              "        961.96192385,  963.96392786,  965.96593186,  967.96793587,\n",
              "        969.96993988,  971.97194389,  973.9739479 ,  975.9759519 ,\n",
              "        977.97795591,  979.97995992,  981.98196393,  983.98396794,\n",
              "        985.98597194,  987.98797595,  989.98997996,  991.99198397,\n",
              "        993.99398798,  995.99599198,  997.99799599, 1000.        ])"
            ]
          },
          "metadata": {},
          "execution_count": 1
        }
      ]
    },
    {
      "cell_type": "code",
      "metadata": {
        "colab": {
          "base_uri": "https://localhost:8080/"
        },
        "id": "bkvZNNUp6JEt",
        "outputId": "64b466a2-e26b-4f36-ac34-5130ab407eb7"
      },
      "source": [
        "a = 1\n",
        "b = 3\n",
        "#y = a + bx\n",
        "y = a + b*x\n",
        "y"
      ],
      "execution_count": 2,
      "outputs": [
        {
          "output_type": "execute_result",
          "data": {
            "text/plain": [
              "array([   4.        ,   10.00601202,   16.01202405,   22.01803607,\n",
              "         28.0240481 ,   34.03006012,   40.03607214,   46.04208417,\n",
              "         52.04809619,   58.05410822,   64.06012024,   70.06613226,\n",
              "         76.07214429,   82.07815631,   88.08416834,   94.09018036,\n",
              "        100.09619238,  106.10220441,  112.10821643,  118.11422846,\n",
              "        124.12024048,  130.12625251,  136.13226453,  142.13827655,\n",
              "        148.14428858,  154.1503006 ,  160.15631263,  166.16232465,\n",
              "        172.16833667,  178.1743487 ,  184.18036072,  190.18637275,\n",
              "        196.19238477,  202.19839679,  208.20440882,  214.21042084,\n",
              "        220.21643287,  226.22244489,  232.22845691,  238.23446894,\n",
              "        244.24048096,  250.24649299,  256.25250501,  262.25851703,\n",
              "        268.26452906,  274.27054108,  280.27655311,  286.28256513,\n",
              "        292.28857715,  298.29458918,  304.3006012 ,  310.30661323,\n",
              "        316.31262525,  322.31863727,  328.3246493 ,  334.33066132,\n",
              "        340.33667335,  346.34268537,  352.34869739,  358.35470942,\n",
              "        364.36072144,  370.36673347,  376.37274549,  382.37875752,\n",
              "        388.38476954,  394.39078156,  400.39679359,  406.40280561,\n",
              "        412.40881764,  418.41482966,  424.42084168,  430.42685371,\n",
              "        436.43286573,  442.43887776,  448.44488978,  454.4509018 ,\n",
              "        460.45691383,  466.46292585,  472.46893788,  478.4749499 ,\n",
              "        484.48096192,  490.48697395,  496.49298597,  502.498998  ,\n",
              "        508.50501002,  514.51102204,  520.51703407,  526.52304609,\n",
              "        532.52905812,  538.53507014,  544.54108216,  550.54709419,\n",
              "        556.55310621,  562.55911824,  568.56513026,  574.57114228,\n",
              "        580.57715431,  586.58316633,  592.58917836,  598.59519038,\n",
              "        604.6012024 ,  610.60721443,  616.61322645,  622.61923848,\n",
              "        628.6252505 ,  634.63126253,  640.63727455,  646.64328657,\n",
              "        652.6492986 ,  658.65531062,  664.66132265,  670.66733467,\n",
              "        676.67334669,  682.67935872,  688.68537074,  694.69138277,\n",
              "        700.69739479,  706.70340681,  712.70941884,  718.71543086,\n",
              "        724.72144289,  730.72745491,  736.73346693,  742.73947896,\n",
              "        748.74549098,  754.75150301,  760.75751503,  766.76352705,\n",
              "        772.76953908,  778.7755511 ,  784.78156313,  790.78757515,\n",
              "        796.79358717,  802.7995992 ,  808.80561122,  814.81162325,\n",
              "        820.81763527,  826.82364729,  832.82965932,  838.83567134,\n",
              "        844.84168337,  850.84769539,  856.85370741,  862.85971944,\n",
              "        868.86573146,  874.87174349,  880.87775551,  886.88376754,\n",
              "        892.88977956,  898.89579158,  904.90180361,  910.90781563,\n",
              "        916.91382766,  922.91983968,  928.9258517 ,  934.93186373,\n",
              "        940.93787575,  946.94388778,  952.9498998 ,  958.95591182,\n",
              "        964.96192385,  970.96793587,  976.9739479 ,  982.97995992,\n",
              "        988.98597194,  994.99198397, 1000.99799599, 1007.00400802,\n",
              "       1013.01002004, 1019.01603206, 1025.02204409, 1031.02805611,\n",
              "       1037.03406814, 1043.04008016, 1049.04609218, 1055.05210421,\n",
              "       1061.05811623, 1067.06412826, 1073.07014028, 1079.0761523 ,\n",
              "       1085.08216433, 1091.08817635, 1097.09418838, 1103.1002004 ,\n",
              "       1109.10621242, 1115.11222445, 1121.11823647, 1127.1242485 ,\n",
              "       1133.13026052, 1139.13627255, 1145.14228457, 1151.14829659,\n",
              "       1157.15430862, 1163.16032064, 1169.16633267, 1175.17234469,\n",
              "       1181.17835671, 1187.18436874, 1193.19038076, 1199.19639279,\n",
              "       1205.20240481, 1211.20841683, 1217.21442886, 1223.22044088,\n",
              "       1229.22645291, 1235.23246493, 1241.23847695, 1247.24448898,\n",
              "       1253.250501  , 1259.25651303, 1265.26252505, 1271.26853707,\n",
              "       1277.2745491 , 1283.28056112, 1289.28657315, 1295.29258517,\n",
              "       1301.29859719, 1307.30460922, 1313.31062124, 1319.31663327,\n",
              "       1325.32264529, 1331.32865731, 1337.33466934, 1343.34068136,\n",
              "       1349.34669339, 1355.35270541, 1361.35871743, 1367.36472946,\n",
              "       1373.37074148, 1379.37675351, 1385.38276553, 1391.38877756,\n",
              "       1397.39478958, 1403.4008016 , 1409.40681363, 1415.41282565,\n",
              "       1421.41883768, 1427.4248497 , 1433.43086172, 1439.43687375,\n",
              "       1445.44288577, 1451.4488978 , 1457.45490982, 1463.46092184,\n",
              "       1469.46693387, 1475.47294589, 1481.47895792, 1487.48496994,\n",
              "       1493.49098196, 1499.49699399, 1505.50300601, 1511.50901804,\n",
              "       1517.51503006, 1523.52104208, 1529.52705411, 1535.53306613,\n",
              "       1541.53907816, 1547.54509018, 1553.5511022 , 1559.55711423,\n",
              "       1565.56312625, 1571.56913828, 1577.5751503 , 1583.58116232,\n",
              "       1589.58717435, 1595.59318637, 1601.5991984 , 1607.60521042,\n",
              "       1613.61122244, 1619.61723447, 1625.62324649, 1631.62925852,\n",
              "       1637.63527054, 1643.64128257, 1649.64729459, 1655.65330661,\n",
              "       1661.65931864, 1667.66533066, 1673.67134269, 1679.67735471,\n",
              "       1685.68336673, 1691.68937876, 1697.69539078, 1703.70140281,\n",
              "       1709.70741483, 1715.71342685, 1721.71943888, 1727.7254509 ,\n",
              "       1733.73146293, 1739.73747495, 1745.74348697, 1751.749499  ,\n",
              "       1757.75551102, 1763.76152305, 1769.76753507, 1775.77354709,\n",
              "       1781.77955912, 1787.78557114, 1793.79158317, 1799.79759519,\n",
              "       1805.80360721, 1811.80961924, 1817.81563126, 1823.82164329,\n",
              "       1829.82765531, 1835.83366733, 1841.83967936, 1847.84569138,\n",
              "       1853.85170341, 1859.85771543, 1865.86372745, 1871.86973948,\n",
              "       1877.8757515 , 1883.88176353, 1889.88777555, 1895.89378758,\n",
              "       1901.8997996 , 1907.90581162, 1913.91182365, 1919.91783567,\n",
              "       1925.9238477 , 1931.92985972, 1937.93587174, 1943.94188377,\n",
              "       1949.94789579, 1955.95390782, 1961.95991984, 1967.96593186,\n",
              "       1973.97194389, 1979.97795591, 1985.98396794, 1991.98997996,\n",
              "       1997.99599198, 2004.00200401, 2010.00801603, 2016.01402806,\n",
              "       2022.02004008, 2028.0260521 , 2034.03206413, 2040.03807615,\n",
              "       2046.04408818, 2052.0501002 , 2058.05611222, 2064.06212425,\n",
              "       2070.06813627, 2076.0741483 , 2082.08016032, 2088.08617234,\n",
              "       2094.09218437, 2100.09819639, 2106.10420842, 2112.11022044,\n",
              "       2118.11623246, 2124.12224449, 2130.12825651, 2136.13426854,\n",
              "       2142.14028056, 2148.14629259, 2154.15230461, 2160.15831663,\n",
              "       2166.16432866, 2172.17034068, 2178.17635271, 2184.18236473,\n",
              "       2190.18837675, 2196.19438878, 2202.2004008 , 2208.20641283,\n",
              "       2214.21242485, 2220.21843687, 2226.2244489 , 2232.23046092,\n",
              "       2238.23647295, 2244.24248497, 2250.24849699, 2256.25450902,\n",
              "       2262.26052104, 2268.26653307, 2274.27254509, 2280.27855711,\n",
              "       2286.28456914, 2292.29058116, 2298.29659319, 2304.30260521,\n",
              "       2310.30861723, 2316.31462926, 2322.32064128, 2328.32665331,\n",
              "       2334.33266533, 2340.33867735, 2346.34468938, 2352.3507014 ,\n",
              "       2358.35671343, 2364.36272545, 2370.36873747, 2376.3747495 ,\n",
              "       2382.38076152, 2388.38677355, 2394.39278557, 2400.3987976 ,\n",
              "       2406.40480962, 2412.41082164, 2418.41683367, 2424.42284569,\n",
              "       2430.42885772, 2436.43486974, 2442.44088176, 2448.44689379,\n",
              "       2454.45290581, 2460.45891784, 2466.46492986, 2472.47094188,\n",
              "       2478.47695391, 2484.48296593, 2490.48897796, 2496.49498998,\n",
              "       2502.501002  , 2508.50701403, 2514.51302605, 2520.51903808,\n",
              "       2526.5250501 , 2532.53106212, 2538.53707415, 2544.54308617,\n",
              "       2550.5490982 , 2556.55511022, 2562.56112224, 2568.56713427,\n",
              "       2574.57314629, 2580.57915832, 2586.58517034, 2592.59118236,\n",
              "       2598.59719439, 2604.60320641, 2610.60921844, 2616.61523046,\n",
              "       2622.62124248, 2628.62725451, 2634.63326653, 2640.63927856,\n",
              "       2646.64529058, 2652.65130261, 2658.65731463, 2664.66332665,\n",
              "       2670.66933868, 2676.6753507 , 2682.68136273, 2688.68737475,\n",
              "       2694.69338677, 2700.6993988 , 2706.70541082, 2712.71142285,\n",
              "       2718.71743487, 2724.72344689, 2730.72945892, 2736.73547094,\n",
              "       2742.74148297, 2748.74749499, 2754.75350701, 2760.75951904,\n",
              "       2766.76553106, 2772.77154309, 2778.77755511, 2784.78356713,\n",
              "       2790.78957916, 2796.79559118, 2802.80160321, 2808.80761523,\n",
              "       2814.81362725, 2820.81963928, 2826.8256513 , 2832.83166333,\n",
              "       2838.83767535, 2844.84368737, 2850.8496994 , 2856.85571142,\n",
              "       2862.86172345, 2868.86773547, 2874.87374749, 2880.87975952,\n",
              "       2886.88577154, 2892.89178357, 2898.89779559, 2904.90380762,\n",
              "       2910.90981964, 2916.91583166, 2922.92184369, 2928.92785571,\n",
              "       2934.93386774, 2940.93987976, 2946.94589178, 2952.95190381,\n",
              "       2958.95791583, 2964.96392786, 2970.96993988, 2976.9759519 ,\n",
              "       2982.98196393, 2988.98797595, 2994.99398798, 3001.        ])"
            ]
          },
          "metadata": {},
          "execution_count": 2
        }
      ]
    },
    {
      "cell_type": "code",
      "metadata": {
        "colab": {
          "base_uri": "https://localhost:8080/",
          "height": 455
        },
        "id": "6uV8MzlI6Zvu",
        "outputId": "b3a13fd6-6c52-4c13-a7db-ed171ad512f6"
      },
      "source": [
        "plt.plot(x,y,'go')\n",
        "plt.xlabels('sumbu X')\n",
        "plt.ylabels('sumbu Y')"
      ],
      "execution_count": 4,
      "outputs": [
        {
          "output_type": "error",
          "ename": "AttributeError",
          "evalue": "ignored",
          "traceback": [
            "\u001b[0;31m---------------------------------------------------------------------------\u001b[0m",
            "\u001b[0;31mAttributeError\u001b[0m                            Traceback (most recent call last)",
            "\u001b[0;32m<ipython-input-4-1c9783bcad9f>\u001b[0m in \u001b[0;36m<module>\u001b[0;34m()\u001b[0m\n\u001b[1;32m      1\u001b[0m \u001b[0mplt\u001b[0m\u001b[0;34m.\u001b[0m\u001b[0mplot\u001b[0m\u001b[0;34m(\u001b[0m\u001b[0mx\u001b[0m\u001b[0;34m,\u001b[0m\u001b[0my\u001b[0m\u001b[0;34m,\u001b[0m\u001b[0;34m'go'\u001b[0m\u001b[0;34m)\u001b[0m\u001b[0;34m\u001b[0m\u001b[0;34m\u001b[0m\u001b[0m\n\u001b[0;32m----> 2\u001b[0;31m \u001b[0mplt\u001b[0m\u001b[0;34m.\u001b[0m\u001b[0mxlabels\u001b[0m\u001b[0;34m(\u001b[0m\u001b[0;34m'sumbu X'\u001b[0m\u001b[0;34m)\u001b[0m\u001b[0;34m\u001b[0m\u001b[0;34m\u001b[0m\u001b[0m\n\u001b[0m\u001b[1;32m      3\u001b[0m \u001b[0mplt\u001b[0m\u001b[0;34m.\u001b[0m\u001b[0mylabels\u001b[0m\u001b[0;34m(\u001b[0m\u001b[0;34m'sumbu Y'\u001b[0m\u001b[0;34m)\u001b[0m\u001b[0;34m\u001b[0m\u001b[0;34m\u001b[0m\u001b[0m\n",
            "\u001b[0;31mAttributeError\u001b[0m: module 'matplotlib.pyplot' has no attribute 'xlabels'"
          ]
        },
        {
          "output_type": "display_data",
          "data": {
            "image/png": "[encoded data removed]",
            "text/plain": [
              "<Figure size 432x288 with 1 Axes>"
            ]
          },
          "metadata": {
            "needs_background": "light"
          }
        }
      ]
    },
    {
      "cell_type": "code",
      "metadata": {
        "colab": {
          "base_uri": "https://localhost:8080/",
          "height": 423
        },
        "id": "xEf3JIZ56rp3",
        "outputId": "90ade4b5-1dee-40d6-8176-ea68c27d0957"
      },
      "source": [
        "import pandas as pd\n",
        "dataset = pd.read_csv('https://raw.githubusercontent.com/asrulabdullah99/data_mining/master/Customer.csv')\n",
        "dataset"
      ],
      "execution_count": 5,
      "outputs": [
        {
          "output_type": "execute_result",
          "data": {
            "text/html": [
              "<div>\n",
              "<style scoped>\n",
              "    .dataframe tbody tr th:only-of-type {\n",
              "        vertical-align: middle;\n",
              "    }\n",
              "\n",
              "    .dataframe tbody tr th {\n",
              "        vertical-align: top;\n",
              "    }\n",
              "\n",
              "    .dataframe thead th {\n",
              "        text-align: right;\n",
              "    }\n",
              "</style>\n",
              "<table border=\"1\" class=\"dataframe\">\n",
              "  <thead>\n",
              "    <tr style=\"text-align: right;\">\n",
              "      <th></th>\n",
              "      <th>IDPelanggan</th>\n",
              "      <th>Kelamin</th>\n",
              "      <th>Usia</th>\n",
              "      <th>Rating_belanja (1-100)</th>\n",
              "      <th>Pendapatan (juta Rp)</th>\n",
              "    </tr>\n",
              "  </thead>\n",
              "  <tbody>\n",
              "    <tr>\n",
              "      <th>0</th>\n",
              "      <td>1</td>\n",
              "      <td>Perempuan</td>\n",
              "      <td>23</td>\n",
              "      <td>87</td>\n",
              "      <td>29</td>\n",
              "    </tr>\n",
              "    <tr>\n",
              "      <th>1</th>\n",
              "      <td>2</td>\n",
              "      <td>Laki</td>\n",
              "      <td>60</td>\n",
              "      <td>4</td>\n",
              "      <td>30</td>\n",
              "    </tr>\n",
              "    <tr>\n",
              "      <th>2</th>\n",
              "      <td>3</td>\n",
              "      <td>Perempuan</td>\n",
              "      <td>21</td>\n",
              "      <td>73</td>\n",
              "      <td>30</td>\n",
              "    </tr>\n",
              "    <tr>\n",
              "      <th>3</th>\n",
              "      <td>4</td>\n",
              "      <td>Laki</td>\n",
              "      <td>53</td>\n",
              "      <td>4</td>\n",
              "      <td>33</td>\n",
              "    </tr>\n",
              "    <tr>\n",
              "      <th>4</th>\n",
              "      <td>5</td>\n",
              "      <td>Laki</td>\n",
              "      <td>18</td>\n",
              "      <td>92</td>\n",
              "      <td>33</td>\n",
              "    </tr>\n",
              "    <tr>\n",
              "      <th>...</th>\n",
              "      <td>...</td>\n",
              "      <td>...</td>\n",
              "      <td>...</td>\n",
              "      <td>...</td>\n",
              "      <td>...</td>\n",
              "    </tr>\n",
              "    <tr>\n",
              "      <th>195</th>\n",
              "      <td>196</td>\n",
              "      <td>Laki</td>\n",
              "      <td>28</td>\n",
              "      <td>75</td>\n",
              "      <td>87</td>\n",
              "    </tr>\n",
              "    <tr>\n",
              "      <th>196</th>\n",
              "      <td>197</td>\n",
              "      <td>Laki</td>\n",
              "      <td>36</td>\n",
              "      <td>10</td>\n",
              "      <td>87</td>\n",
              "    </tr>\n",
              "    <tr>\n",
              "      <th>197</th>\n",
              "      <td>198</td>\n",
              "      <td>Laki</td>\n",
              "      <td>36</td>\n",
              "      <td>92</td>\n",
              "      <td>87</td>\n",
              "    </tr>\n",
              "    <tr>\n",
              "      <th>198</th>\n",
              "      <td>199</td>\n",
              "      <td>Perempuan</td>\n",
              "      <td>52</td>\n",
              "      <td>13</td>\n",
              "      <td>88</td>\n",
              "    </tr>\n",
              "    <tr>\n",
              "      <th>199</th>\n",
              "      <td>200</td>\n",
              "      <td>Perempuan</td>\n",
              "      <td>30</td>\n",
              "      <td>86</td>\n",
              "      <td>88</td>\n",
              "    </tr>\n",
              "  </tbody>\n",
              "</table>\n",
              "<p>200 rows × 5 columns</p>\n",
              "</div>"
            ],
            "text/plain": [
              "     IDPelanggan    Kelamin  Usia  Rating_belanja (1-100)  Pendapatan (juta Rp)\n",
              "0              1  Perempuan    23                      87                    29\n",
              "1              2       Laki    60                       4                    30\n",
              "2              3  Perempuan    21                      73                    30\n",
              "3              4       Laki    53                       4                    33\n",
              "4              5       Laki    18                      92                    33\n",
              "..           ...        ...   ...                     ...                   ...\n",
              "195          196       Laki    28                      75                    87\n",
              "196          197       Laki    36                      10                    87\n",
              "197          198       Laki    36                      92                    87\n",
              "198          199  Perempuan    52                      13                    88\n",
              "199          200  Perempuan    30                      86                    88\n",
              "\n",
              "[200 rows x 5 columns]"
            ]
          },
          "metadata": {},
          "execution_count": 5
        }
      ]
    },
    {
      "cell_type": "code",
      "metadata": {
        "colab": {
          "base_uri": "https://localhost:8080/"
        },
        "id": "akCJ4hyrE6Sm",
        "outputId": "9bad9ab0-c60b-4e14-fda7-5017a89edcfa"
      },
      "source": [
        "usia = dataset.iloc[:,2]\n",
        "usia"
      ],
      "execution_count": 6,
      "outputs": [
        {
          "output_type": "execute_result",
          "data": {
            "text/plain": [
              "0      23\n",
              "1      60\n",
              "2      21\n",
              "3      53\n",
              "4      18\n",
              "       ..\n",
              "195    28\n",
              "196    36\n",
              "197    36\n",
              "198    52\n",
              "199    30\n",
              "Name: Usia, Length: 200, dtype: int64"
            ]
          },
          "metadata": {},
          "execution_count": 6
        }
      ]
    },
    {
      "cell_type": "code",
      "metadata": {
        "colab": {
          "base_uri": "https://localhost:8080/"
        },
        "id": "r5Q5ajOeFPYX",
        "outputId": "5f18ce4e-f50d-4f4a-bd04-ca2ce09965ae"
      },
      "source": [
        "rating = dataset.iloc[:,3]\n",
        "rating"
      ],
      "execution_count": 7,
      "outputs": [
        {
          "output_type": "execute_result",
          "data": {
            "text/plain": [
              "0      87\n",
              "1       4\n",
              "2      73\n",
              "3       4\n",
              "4      92\n",
              "       ..\n",
              "195    75\n",
              "196    10\n",
              "197    92\n",
              "198    13\n",
              "199    86\n",
              "Name: Rating_belanja (1-100), Length: 200, dtype: int64"
            ]
          },
          "metadata": {},
          "execution_count": 7
        }
      ]
    },
    {
      "cell_type": "code",
      "metadata": {
        "colab": {
          "base_uri": "https://localhost:8080/",
          "height": 297
        },
        "id": "tZawMf7YFUbT",
        "outputId": "6e23cc1a-3da3-4da4-c6c0-b0625859b71b"
      },
      "source": [
        "plt.scatter(usia, rating)\n",
        "plt.xlabel('usia')\n",
        "plt.ylabel('rating')"
      ],
      "execution_count": 8,
      "outputs": [
        {
          "output_type": "execute_result",
          "data": {
            "text/plain": [
              "Text(0, 0.5, 'rating')"
            ]
          },
          "metadata": {},
          "execution_count": 8
        },
        {
          "output_type": "display_data",
          "data": {
            "image/png": "[encoded data removed]",
            "text/plain": [
              "<Figure size 432x288 with 1 Axes>"
            ]
          },
          "metadata": {
            "needs_background": "light"
          }
        }
      ]
    },
    {
      "cell_type": "code",
      "metadata": {
        "colab": {
          "base_uri": "https://localhost:8080/",
          "height": 297
        },
        "id": "FxyYZjpsFkd3",
        "outputId": "2f4ce0c7-e10a-4288-e1ba-9d31933b9d74"
      },
      "source": [
        "plt.plot(usia, rating)\n",
        "plt.xlabel('usia')\n",
        "plt.ylabel('rating')"
      ],
      "execution_count": 9,
      "outputs": [
        {
          "output_type": "execute_result",
          "data": {
            "text/plain": [
              "Text(0, 0.5, 'rating')"
            ]
          },
          "metadata": {},
          "execution_count": 9
        },
        {
          "output_type": "display_data",
          "data": {
            "image/png": "[encoded data removed]",
            "text/plain": [
              "<Figure size 432x288 with 1 Axes>"
            ]
          },
          "metadata": {
            "needs_background": "light"
          }
        }
      ]
    },
    {
      "cell_type": "code",
      "metadata": {
        "id": "6fr3AhmFFx4D"
      },
      "source": [
        ""
      ],
      "execution_count": null,
      "outputs": []
    }
  ]
}